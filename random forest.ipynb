{
 "cells": [
  {
   "cell_type": "code",
   "execution_count": 1,
   "metadata": {},
   "outputs": [
    {
     "name": "stderr",
     "output_type": "stream",
     "text": [
      "/usr/local/lib/python3.6/site-packages/matplotlib/__init__.py:1085: UserWarning: Duplicate key in file \"/Users/Pani/.matplotlib/matplotlibrc\", line #2\n",
      "  (fname, cnt))\n"
     ]
    },
    {
     "name": "stdout",
     "output_type": "stream",
     "text": [
      "height has been deprecated.\n",
      "\n"
     ]
    }
   ],
   "source": [
    "import pandas as pd\n",
    "import numpy as np\n",
    "from random import randrange, uniform\n",
    "from sklearn import linear_model\n",
    "\n",
    "pd.set_option('display.height', 1000)\n",
    "pd.set_option('display.max_rows', 500)\n",
    "pd.set_option('display.max_columns', 500)\n",
    "pd.set_option('display.width', 1000)"
   ]
  },
  {
   "cell_type": "code",
   "execution_count": 2,
   "metadata": {},
   "outputs": [
    {
     "name": "stdout",
     "output_type": "stream",
     "text": [
      "['.DS_Store', 'Group_xx.csv', 'test.csv', 'train.csv', 'validation.csv']\n"
     ]
    }
   ],
   "source": [
    "import os\n",
    "files = os.listdir('we_data/')\n",
    "print(files)"
   ]
  },
  {
   "cell_type": "code",
   "execution_count": 3,
   "metadata": {
    "collapsed": true
   },
   "outputs": [],
   "source": [
    "\n",
    "train = pd.read_csv('we_data/train.csv')\n",
    "test = pd.read_csv('we_data/test.csv')\n",
    "validation = pd.read_csv('we_data/validation.csv')"
   ]
  },
  {
   "cell_type": "code",
   "execution_count": 4,
   "metadata": {
    "collapsed": true
   },
   "outputs": [],
   "source": [
    "# list(train)\n",
    "\n",
    "# #Number of training points\n",
    "# num_train_data = train.count()\n",
    "# print(\"Number of training data \", num_train_data)\n",
    "\n",
    "# #Number of features\n",
    "# num_fut = len(list(train))\n",
    "# print(\"number of features\", num_fut)\n",
    "\n",
    "\n",
    "# # ad_group = train.groupby('advertiser')\n",
    "# # ad_group['advertiser'].describe()\n",
    "\n",
    "# advertisers = train['advertiser'].unique()\n",
    "# advertisers.sort()\n",
    "# advertisers"
   ]
  },
  {
   "cell_type": "code",
   "execution_count": 5,
   "metadata": {},
   "outputs": [
    {
     "data": {
      "text/plain": [
       "array([1458, 2259, 2261, 2821, 2997, 3358, 3386, 3427, 3476])"
      ]
     },
     "execution_count": 5,
     "metadata": {},
     "output_type": "execute_result"
    }
   ],
   "source": [
    "advertisers = train['advertiser'].unique()\n",
    "advertisers.sort()\n",
    "advertisers"
   ]
  },
  {
   "cell_type": "code",
   "execution_count": 6,
   "metadata": {
    "collapsed": true
   },
   "outputs": [],
   "source": [
    "# Define data frames\n",
    "\n",
    "# Train dataframe\n",
    "train_df = pd.DataFrame(data=[], index=[advertisers], columns=['Imps', 'Clicks', 'Cost', 'avg CPC', \n",
    "                                                             'CTR', 'avg CPM', 'eCPC'])\n",
    "# new_df.loc[3427]['Bids'] = 100\n",
    "\n",
    "# Validation dataframe\n",
    "validation_df = pd.DataFrame(data=[], index=[advertisers], columns=['Imps', 'Clicks', 'Cost', 'avg CPC', \n",
    "                                                             'CTR', 'avg CPM', 'eCPC'])\n",
    "# Test dataframe\n",
    "test_df = pd.DataFrame(data=[], index=[advertisers], columns=['Imps','Clicks','Cost', 'avg CPC', \n",
    "                                                             'CTR', 'avg CPM', 'eCPC'])"
   ]
  },
  {
   "cell_type": "code",
   "execution_count": 7,
   "metadata": {},
   "outputs": [
    {
     "data": {
      "text/plain": [
       "Index(['click', 'weekday', 'hour', 'bidid', 'userid', 'useragent', 'IP',\n",
       "       'region', 'city', 'adexchange', 'domain', 'url', 'urlid', 'slotid',\n",
       "       'slotwidth', 'slotheight', 'slotvisibility', 'slotformat', 'slotprice',\n",
       "       'creative', 'bidprice', 'payprice', 'keypage', 'advertiser', 'usertag'],\n",
       "      dtype='object')"
      ]
     },
     "execution_count": 7,
     "metadata": {},
     "output_type": "execute_result"
    }
   ],
   "source": [
    "train.columns"
   ]
  },
  {
   "cell_type": "code",
   "execution_count": 8,
   "metadata": {},
   "outputs": [
    {
     "data": {
      "text/plain": [
       "Index(['weekday', 'hour', 'bidid', 'userid', 'useragent', 'IP', 'region',\n",
       "       'city', 'adexchange', 'domain', 'url', 'urlid', 'slotid', 'slotwidth',\n",
       "       'slotheight', 'slotvisibility', 'slotformat', 'slotprice', 'creative',\n",
       "       'keypage', 'advertiser', 'usertag'],\n",
       "      dtype='object')"
      ]
     },
     "execution_count": 8,
     "metadata": {},
     "output_type": "execute_result"
    }
   ],
   "source": [
    "test.columns"
   ]
  },
  {
   "cell_type": "code",
   "execution_count": 9,
   "metadata": {
    "collapsed": true
   },
   "outputs": [],
   "source": [
    "# advertisers"
   ]
  },
  {
   "cell_type": "code",
   "execution_count": 10,
   "metadata": {
    "collapsed": true
   },
   "outputs": [],
   "source": [
    "# ad_group = train.groupby('advertiser')\n",
    "# ad_group['advertiser'].describe()\n",
    "# ad_group['advertiser'].count()"
   ]
  },
  {
   "cell_type": "code",
   "execution_count": 11,
   "metadata": {
    "collapsed": true
   },
   "outputs": [],
   "source": [
    "# train[train['advertiser'] == 1458].shape"
   ]
  },
  {
   "cell_type": "code",
   "execution_count": 12,
   "metadata": {},
   "outputs": [
    {
     "data": {
      "text/plain": [
       "Index(['click', 'weekday', 'hour', 'bidid', 'userid', 'useragent', 'IP',\n",
       "       'region', 'city', 'adexchange', 'domain', 'url', 'urlid', 'slotid',\n",
       "       'slotwidth', 'slotheight', 'slotvisibility', 'slotformat', 'slotprice',\n",
       "       'creative', 'bidprice', 'payprice', 'keypage', 'advertiser', 'usertag'],\n",
       "      dtype='object')"
      ]
     },
     "execution_count": 12,
     "metadata": {},
     "output_type": "execute_result"
    }
   ],
   "source": [
    "train.columns"
   ]
  },
  {
   "cell_type": "code",
   "execution_count": 13,
   "metadata": {
    "collapsed": true
   },
   "outputs": [],
   "source": [
    "# train.groupby('advertiser')['advertiser'].count()"
   ]
  },
  {
   "cell_type": "code",
   "execution_count": 7,
   "metadata": {
    "collapsed": true
   },
   "outputs": [],
   "source": [
    "def dataexploration(dataframe, data):\n",
    "    advertisers = data.groupby('advertiser')\n",
    "    dataframe['Imps'] = advertisers['bidid'].nunique()\n",
    "    dataframe['Clicks'] = advertisers['click'].sum()\n",
    "    dataframe['Cost'] = advertisers['payprice'].sum()/1000.\n",
    "    dataframe['CTR'] = (advertisers['click'].sum() / advertisers['bidid'].nunique()) * 100\n",
    "    dataframe['avg CPC'] = dataframe['Cost'] / dataframe['Clicks']\n",
    "#     check avg_CPM\n",
    "    dataframe['avg CPM'] = dataframe['Cost'] / (advertisers['click'].count()) * 1000\n",
    "    \n",
    "    # check this with avg cpc?????\n",
    "    dataframe['eCPC'] = dataframe['Cost'] / dataframe['Clicks']"
   ]
  },
  {
   "cell_type": "code",
   "execution_count": 15,
   "metadata": {},
   "outputs": [
    {
     "data": {
      "text/html": [
       "<div>\n",
       "<style>\n",
       "    .dataframe thead tr:only-child th {\n",
       "        text-align: right;\n",
       "    }\n",
       "\n",
       "    .dataframe thead th {\n",
       "        text-align: left;\n",
       "    }\n",
       "\n",
       "    .dataframe tbody tr th {\n",
       "        vertical-align: top;\n",
       "    }\n",
       "</style>\n",
       "<table border=\"1\" class=\"dataframe\">\n",
       "  <thead>\n",
       "    <tr style=\"text-align: right;\">\n",
       "      <th></th>\n",
       "      <th>Imps</th>\n",
       "      <th>Clicks</th>\n",
       "      <th>Cost</th>\n",
       "      <th>avg CPC</th>\n",
       "      <th>CTR</th>\n",
       "      <th>avg CPM</th>\n",
       "      <th>eCPC</th>\n",
       "    </tr>\n",
       "  </thead>\n",
       "  <tbody>\n",
       "    <tr>\n",
       "      <th>1458</th>\n",
       "      <td>492353</td>\n",
       "      <td>385</td>\n",
       "      <td>33968.736</td>\n",
       "      <td>88.230483</td>\n",
       "      <td>0.078196</td>\n",
       "      <td>68.992646</td>\n",
       "      <td>88.230483</td>\n",
       "    </tr>\n",
       "    <tr>\n",
       "      <th>2259</th>\n",
       "      <td>133673</td>\n",
       "      <td>43</td>\n",
       "      <td>12428.238</td>\n",
       "      <td>289.028791</td>\n",
       "      <td>0.032168</td>\n",
       "      <td>92.974931</td>\n",
       "      <td>289.028791</td>\n",
       "    </tr>\n",
       "    <tr>\n",
       "      <th>2261</th>\n",
       "      <td>110122</td>\n",
       "      <td>36</td>\n",
       "      <td>9873.779</td>\n",
       "      <td>274.271639</td>\n",
       "      <td>0.032691</td>\n",
       "      <td>89.662184</td>\n",
       "      <td>274.271639</td>\n",
       "    </tr>\n",
       "    <tr>\n",
       "      <th>2821</th>\n",
       "      <td>211366</td>\n",
       "      <td>131</td>\n",
       "      <td>18828.044</td>\n",
       "      <td>143.725527</td>\n",
       "      <td>0.061978</td>\n",
       "      <td>89.077922</td>\n",
       "      <td>143.725527</td>\n",
       "    </tr>\n",
       "    <tr>\n",
       "      <th>2997</th>\n",
       "      <td>49829</td>\n",
       "      <td>217</td>\n",
       "      <td>3129.267</td>\n",
       "      <td>14.420585</td>\n",
       "      <td>0.435489</td>\n",
       "      <td>62.800116</td>\n",
       "      <td>14.420585</td>\n",
       "    </tr>\n",
       "    <tr>\n",
       "      <th>3358</th>\n",
       "      <td>264956</td>\n",
       "      <td>202</td>\n",
       "      <td>22447.231</td>\n",
       "      <td>111.124906</td>\n",
       "      <td>0.076239</td>\n",
       "      <td>84.720599</td>\n",
       "      <td>111.124906</td>\n",
       "    </tr>\n",
       "    <tr>\n",
       "      <th>3386</th>\n",
       "      <td>455041</td>\n",
       "      <td>320</td>\n",
       "      <td>34931.823</td>\n",
       "      <td>109.161947</td>\n",
       "      <td>0.070323</td>\n",
       "      <td>76.766320</td>\n",
       "      <td>109.161947</td>\n",
       "    </tr>\n",
       "    <tr>\n",
       "      <th>3427</th>\n",
       "      <td>402806</td>\n",
       "      <td>272</td>\n",
       "      <td>30458.711</td>\n",
       "      <td>111.980555</td>\n",
       "      <td>0.067526</td>\n",
       "      <td>75.616329</td>\n",
       "      <td>111.980555</td>\n",
       "    </tr>\n",
       "    <tr>\n",
       "      <th>3476</th>\n",
       "      <td>310835</td>\n",
       "      <td>187</td>\n",
       "      <td>23918.779</td>\n",
       "      <td>127.907909</td>\n",
       "      <td>0.060161</td>\n",
       "      <td>76.950083</td>\n",
       "      <td>127.907909</td>\n",
       "    </tr>\n",
       "  </tbody>\n",
       "</table>\n",
       "</div>"
      ],
      "text/plain": [
       "        Imps  Clicks       Cost     avg CPC       CTR    avg CPM        eCPC\n",
       "1458  492353     385  33968.736   88.230483  0.078196  68.992646   88.230483\n",
       "2259  133673      43  12428.238  289.028791  0.032168  92.974931  289.028791\n",
       "2261  110122      36   9873.779  274.271639  0.032691  89.662184  274.271639\n",
       "2821  211366     131  18828.044  143.725527  0.061978  89.077922  143.725527\n",
       "2997   49829     217   3129.267   14.420585  0.435489  62.800116   14.420585\n",
       "3358  264956     202  22447.231  111.124906  0.076239  84.720599  111.124906\n",
       "3386  455041     320  34931.823  109.161947  0.070323  76.766320  109.161947\n",
       "3427  402806     272  30458.711  111.980555  0.067526  75.616329  111.980555\n",
       "3476  310835     187  23918.779  127.907909  0.060161  76.950083  127.907909"
      ]
     },
     "execution_count": 15,
     "metadata": {},
     "output_type": "execute_result"
    }
   ],
   "source": [
    "train_explor = dataexploration(train_df, train)\n",
    "train_df"
   ]
  },
  {
   "cell_type": "code",
   "execution_count": 16,
   "metadata": {},
   "outputs": [
    {
     "data": {
      "text/html": [
       "<div>\n",
       "<style>\n",
       "    .dataframe thead tr:only-child th {\n",
       "        text-align: right;\n",
       "    }\n",
       "\n",
       "    .dataframe thead th {\n",
       "        text-align: left;\n",
       "    }\n",
       "\n",
       "    .dataframe tbody tr th {\n",
       "        vertical-align: top;\n",
       "    }\n",
       "</style>\n",
       "<table border=\"1\" class=\"dataframe\">\n",
       "  <thead>\n",
       "    <tr style=\"text-align: right;\">\n",
       "      <th></th>\n",
       "      <th>Imps</th>\n",
       "      <th>Clicks</th>\n",
       "      <th>Cost</th>\n",
       "      <th>avg CPC</th>\n",
       "      <th>CTR</th>\n",
       "      <th>avg CPM</th>\n",
       "      <th>eCPC</th>\n",
       "    </tr>\n",
       "  </thead>\n",
       "  <tbody>\n",
       "    <tr>\n",
       "      <th>1458</th>\n",
       "      <td>62353</td>\n",
       "      <td>49</td>\n",
       "      <td>4294.602</td>\n",
       "      <td>87.644939</td>\n",
       "      <td>0.078585</td>\n",
       "      <td>68.875627</td>\n",
       "      <td>87.644939</td>\n",
       "    </tr>\n",
       "    <tr>\n",
       "      <th>2259</th>\n",
       "      <td>16715</td>\n",
       "      <td>2</td>\n",
       "      <td>1568.808</td>\n",
       "      <td>784.404000</td>\n",
       "      <td>0.011965</td>\n",
       "      <td>93.856297</td>\n",
       "      <td>784.404000</td>\n",
       "    </tr>\n",
       "    <tr>\n",
       "      <th>2261</th>\n",
       "      <td>13550</td>\n",
       "      <td>3</td>\n",
       "      <td>1214.876</td>\n",
       "      <td>404.958667</td>\n",
       "      <td>0.022140</td>\n",
       "      <td>89.658745</td>\n",
       "      <td>404.958667</td>\n",
       "    </tr>\n",
       "    <tr>\n",
       "      <th>2821</th>\n",
       "      <td>26503</td>\n",
       "      <td>23</td>\n",
       "      <td>2394.900</td>\n",
       "      <td>104.126087</td>\n",
       "      <td>0.086783</td>\n",
       "      <td>90.363355</td>\n",
       "      <td>104.126087</td>\n",
       "    </tr>\n",
       "    <tr>\n",
       "      <th>2997</th>\n",
       "      <td>6176</td>\n",
       "      <td>26</td>\n",
       "      <td>388.784</td>\n",
       "      <td>14.953231</td>\n",
       "      <td>0.420984</td>\n",
       "      <td>62.950777</td>\n",
       "      <td>14.953231</td>\n",
       "    </tr>\n",
       "    <tr>\n",
       "      <th>3358</th>\n",
       "      <td>32939</td>\n",
       "      <td>23</td>\n",
       "      <td>2794.021</td>\n",
       "      <td>121.479174</td>\n",
       "      <td>0.069826</td>\n",
       "      <td>84.824099</td>\n",
       "      <td>121.479174</td>\n",
       "    </tr>\n",
       "    <tr>\n",
       "      <th>3386</th>\n",
       "      <td>56665</td>\n",
       "      <td>28</td>\n",
       "      <td>4350.793</td>\n",
       "      <td>155.385464</td>\n",
       "      <td>0.049413</td>\n",
       "      <td>76.780958</td>\n",
       "      <td>155.385464</td>\n",
       "    </tr>\n",
       "    <tr>\n",
       "      <th>3427</th>\n",
       "      <td>50183</td>\n",
       "      <td>37</td>\n",
       "      <td>3776.735</td>\n",
       "      <td>102.073919</td>\n",
       "      <td>0.073730</td>\n",
       "      <td>75.259251</td>\n",
       "      <td>102.073919</td>\n",
       "    </tr>\n",
       "    <tr>\n",
       "      <th>3476</th>\n",
       "      <td>38841</td>\n",
       "      <td>11</td>\n",
       "      <td>2993.751</td>\n",
       "      <td>272.159182</td>\n",
       "      <td>0.028321</td>\n",
       "      <td>77.077083</td>\n",
       "      <td>272.159182</td>\n",
       "    </tr>\n",
       "  </tbody>\n",
       "</table>\n",
       "</div>"
      ],
      "text/plain": [
       "       Imps  Clicks      Cost     avg CPC       CTR    avg CPM        eCPC\n",
       "1458  62353      49  4294.602   87.644939  0.078585  68.875627   87.644939\n",
       "2259  16715       2  1568.808  784.404000  0.011965  93.856297  784.404000\n",
       "2261  13550       3  1214.876  404.958667  0.022140  89.658745  404.958667\n",
       "2821  26503      23  2394.900  104.126087  0.086783  90.363355  104.126087\n",
       "2997   6176      26   388.784   14.953231  0.420984  62.950777   14.953231\n",
       "3358  32939      23  2794.021  121.479174  0.069826  84.824099  121.479174\n",
       "3386  56665      28  4350.793  155.385464  0.049413  76.780958  155.385464\n",
       "3427  50183      37  3776.735  102.073919  0.073730  75.259251  102.073919\n",
       "3476  38841      11  2993.751  272.159182  0.028321  77.077083  272.159182"
      ]
     },
     "execution_count": 16,
     "metadata": {},
     "output_type": "execute_result"
    }
   ],
   "source": [
    "validation_explor = dataexploration(validation_df, validation)\n",
    "validation_df"
   ]
  },
  {
   "cell_type": "code",
   "execution_count": 17,
   "metadata": {
    "collapsed": true
   },
   "outputs": [],
   "source": [
    "# Calculate a new data frame for the test data\n",
    "# test_explor = dataexploration(test_df, test)\n",
    "# test_df"
   ]
  },
  {
   "cell_type": "code",
   "execution_count": 18,
   "metadata": {
    "collapsed": true
   },
   "outputs": [],
   "source": [
    "# import matplotlib.pyplot as plt\n",
    "\n",
    "# import plotly.plotly as py\n",
    "# # Learn about API authentication here: https://plot.ly/python/getting-started\n",
    "# # Find your api_key here: https://plot.ly/settings/api\n",
    "\n",
    "# y = [3, 10, 7, 5, 3, 4.5, 6, 8.1]\n",
    "# N = len(y)\n",
    "# x = range(N)\n",
    "# width = 1/1.5\n",
    "# plt.bar(x, y, width, color=\"blue\")\n",
    "\n",
    "\n",
    "# fig = plt.gcf()\n",
    "# plot_url = py.plot_mpl(fig, filename='mpl-basic-bar')"
   ]
  },
  {
   "cell_type": "code",
   "execution_count": 14,
   "metadata": {
    "collapsed": true
   },
   "outputs": [],
   "source": [
    "# def evaluate_metrics(bidprices):\n",
    "#     win_items = validation['bidprice'] < bidprices\n",
    "#     imp = validation[win_items]\n",
    "#     print('number of clicks', imp['click'].sum())\n",
    "#     cost = imp['bidprice'].sum() / 1000\n",
    "#     print('total cost', cost)\n",
    "#     avg_CTR = (imp['click'].sum() / imp['click'].count()) * 100\n",
    "# #     Check for CTR\n",
    "#     print('Click through rate ', avg_CTR)\n",
    "#     avg_CPC = cost / imp['click'].sum()\n",
    "#     print('Average CPC', avg_CPC)\n",
    "#     CPM = (cost) / (imp['click'].count()) * 1000\n",
    "#     print('Cost per mille', CPM)\n",
    "\n",
    "\n",
    "def evaluate_metrics(bidprices, display=True):\n",
    "    win_items = validation['payprice'] < bidprices\n",
    "    imp = validation[win_items]\n",
    "    clicks = imp['click'].sum()\n",
    "\n",
    "    cost = imp['payprice'].sum() / 1000\n",
    "\n",
    "    avg_CTR = (imp['click'].sum() / imp['click'].count()) * 100\n",
    "#     Check for CTR\n",
    "\n",
    "    avg_CPC = cost / imp['click'].sum()\n",
    " \n",
    "    CPM = (cost) / (imp['click'].count()) * 1000\n",
    "    if display:\n",
    "        print('number of clicks', clicks)\n",
    "        print('total cost', cost)\n",
    "        print('Click through rate ', avg_CTR)\n",
    "        print('Average CPC', avg_CPC)\n",
    "        print('Cost per mille', CPM)\n",
    "    return clicks, cost, avg_CTR"
   ]
  },
  {
   "cell_type": "code",
   "execution_count": 21,
   "metadata": {
    "collapsed": true
   },
   "outputs": [],
   "source": [
    "########################################Constant Bidding###############################################################"
   ]
  },
  {
   "cell_type": "code",
   "execution_count": null,
   "metadata": {
    "collapsed": true
   },
   "outputs": [],
   "source": [
    "avg_bidprice = train['bidprice'].mean()\n",
    "avg_bidprice"
   ]
  },
  {
   "cell_type": "code",
   "execution_count": 13,
   "metadata": {
    "collapsed": true
   },
   "outputs": [],
   "source": [
    "validation = pd.read_csv('we_data/validation.csv')"
   ]
  },
  {
   "cell_type": "code",
   "execution_count": null,
   "metadata": {
    "collapsed": true
   },
   "outputs": [],
   "source": [
    "validation.columns"
   ]
  },
  {
   "cell_type": "code",
   "execution_count": null,
   "metadata": {
    "collapsed": true
   },
   "outputs": [],
   "source": [
    "# Calculate metrics for constant bidding\n",
    "evaluate_metrics(avg_bidprice)"
   ]
  },
  {
   "cell_type": "code",
   "execution_count": null,
   "metadata": {
    "collapsed": true
   },
   "outputs": [],
   "source": [
    "############################################RANDOM BIDDING ##########################################################"
   ]
  },
  {
   "cell_type": "code",
   "execution_count": null,
   "metadata": {
    "collapsed": true
   },
   "outputs": [],
   "source": [
    "# Random Bidding \n",
    "max_bid = validation['bidprice'].max()\n",
    "min_bid = validation['bidprice'].min()\n",
    "print('Max bid is', max_bid)\n",
    "print('Min bid is', min_bid)"
   ]
  },
  {
   "cell_type": "code",
   "execution_count": null,
   "metadata": {
    "collapsed": true
   },
   "outputs": [],
   "source": [
    "rand_vec = np.random.uniform(low=min_bid, high=max_bid, size=(validation['bidprice'].count(),))\n",
    "print('Length of random bid vector is',len(rand_vec))\n",
    "print('The number of impressions are', validation['bidprice'].count())"
   ]
  },
  {
   "cell_type": "code",
   "execution_count": null,
   "metadata": {
    "collapsed": true
   },
   "outputs": [],
   "source": [
    "evaluate_metrics(rand_vec)"
   ]
  },
  {
   "cell_type": "code",
   "execution_count": null,
   "metadata": {
    "collapsed": true
   },
   "outputs": [],
   "source": [
    "#####################################Linear Bidding Strategy###########################################################"
   ]
  },
  {
   "cell_type": "code",
   "execution_count": null,
   "metadata": {
    "collapsed": true
   },
   "outputs": [],
   "source": [
    "train.head()"
   ]
  },
  {
   "cell_type": "code",
   "execution_count": null,
   "metadata": {
    "collapsed": true
   },
   "outputs": [],
   "source": [
    "train.columns"
   ]
  },
  {
   "cell_type": "code",
   "execution_count": null,
   "metadata": {
    "collapsed": true
   },
   "outputs": [],
   "source": [
    "\n",
    "\n",
    "\n",
    "# Average CTR (or average click-through rate) is the ratio of ad clicks to impressions in your AdWords campaigns.\n",
    "# While basic CTR measures the rate of clicks on each ad, average CTR calculates the amount of clicks vs.\n",
    "# impressions across your campaign, or for each individual keyword.\n",
    "\n",
    "\n",
    "\n",
    "# lr = linear_model.LinearRegression()\n",
    "# x = train[['click', 'weekday', 'hour', 'region', 'city','adexchange', 'advertiser', 'bidprice',\n",
    "#           'slotwidth', 'slotheight', 'slotformat', 'slotprice']]\n",
    "# x['adexchange'] = pd.to_numeric(x['adexchange'], errors='coerce')\n",
    "# x['slotformat'] = pd.to_numeric(x['slotformat'], errors='coerce')\n",
    "# x.fillna(0, inplace=True)\n",
    "# y = x['bidprice']\n",
    "# del x['bidprice']\n",
    "# lr.fit(x,y)\n",
    "\n",
    "\n",
    "\n",
    "\n",
    "# (x.shape, train.shape)"
   ]
  },
  {
   "cell_type": "code",
   "execution_count": null,
   "metadata": {
    "collapsed": true
   },
   "outputs": [],
   "source": [
    "#####################################################pCTR##############################################################"
   ]
  },
  {
   "cell_type": "code",
   "execution_count": null,
   "metadata": {
    "collapsed": true
   },
   "outputs": [],
   "source": [
    "# pd.get_dummies(train['useragent'], prefix='user_agent').head()\n",
    "# ohe.transform(le.transform(train['useragent'])).shape"
   ]
  },
  {
   "cell_type": "code",
   "execution_count": 4,
   "metadata": {},
   "outputs": [
    {
     "data": {
      "text/plain": [
       "(2430981, 25)"
      ]
     },
     "execution_count": 4,
     "metadata": {},
     "output_type": "execute_result"
    }
   ],
   "source": [
    "train.shape"
   ]
  },
  {
   "cell_type": "code",
   "execution_count": 4,
   "metadata": {},
   "outputs": [
    {
     "name": "stdout",
     "output_type": "stream",
     "text": [
      "CPU times: user 1min 51s, sys: 6.53 s, total: 1min 57s\n",
      "Wall time: 1min 58s\n"
     ]
    }
   ],
   "source": [
    "%%time\n",
    "def preprocess(data):\n",
    "    result = data['useragent'].str.split('_')\n",
    "    data['os'] = np.array(result.tolist())[:,0]\n",
    "    data['browser'] = np.array(result.tolist())[:,1]\n",
    "    data['slotsize'] = data['slotwidth'] * data['slotheight']\n",
    "    result = data['usertag'].str.split(',')\n",
    "    unique_usertags = {elem\n",
    "                       for elems in result.tolist()\n",
    "                       for elem in elems}\n",
    "    for usertag in unique_usertags:\n",
    "        data['usertag_'+usertag] = result.apply(lambda x: usertag in x).astype(int)\n",
    "\n",
    "preprocess(validation)\n",
    "preprocess(test)\n",
    "preprocess(train)\n",
    "# train_sample.shape[0]"
   ]
  },
  {
   "cell_type": "code",
   "execution_count": 5,
   "metadata": {},
   "outputs": [
    {
     "name": "stdout",
     "output_type": "stream",
     "text": [
      "(243098, 97)\n",
      "CPU times: user 12.5 s, sys: 8.75 s, total: 21.2 s\n",
      "Wall time: 22 s\n"
     ]
    }
   ],
   "source": [
    "%%time\n",
    "train_sample = train.sample(n=int(0.1 * (train.shape[0])))\n",
    "preprocess(train_sample)\n",
    "print(train_sample.shape)"
   ]
  },
  {
   "cell_type": "code",
   "execution_count": 11,
   "metadata": {},
   "outputs": [
    {
     "data": {
      "text/html": [
       "<div>\n",
       "<style>\n",
       "    .dataframe thead tr:only-child th {\n",
       "        text-align: right;\n",
       "    }\n",
       "\n",
       "    .dataframe thead th {\n",
       "        text-align: left;\n",
       "    }\n",
       "\n",
       "    .dataframe tbody tr th {\n",
       "        vertical-align: top;\n",
       "    }\n",
       "</style>\n",
       "<table border=\"1\" class=\"dataframe\">\n",
       "  <thead>\n",
       "    <tr style=\"text-align: right;\">\n",
       "      <th></th>\n",
       "      <th>click</th>\n",
       "      <th>weekday</th>\n",
       "      <th>hour</th>\n",
       "      <th>bidid</th>\n",
       "      <th>userid</th>\n",
       "      <th>useragent</th>\n",
       "      <th>IP</th>\n",
       "      <th>region</th>\n",
       "      <th>city</th>\n",
       "      <th>adexchange</th>\n",
       "      <th>domain</th>\n",
       "      <th>url</th>\n",
       "      <th>urlid</th>\n",
       "      <th>slotid</th>\n",
       "      <th>slotwidth</th>\n",
       "      <th>slotheight</th>\n",
       "      <th>slotvisibility</th>\n",
       "      <th>slotformat</th>\n",
       "      <th>slotprice</th>\n",
       "      <th>creative</th>\n",
       "      <th>bidprice</th>\n",
       "      <th>payprice</th>\n",
       "      <th>keypage</th>\n",
       "      <th>advertiser</th>\n",
       "      <th>usertag</th>\n",
       "      <th>os</th>\n",
       "      <th>browser</th>\n",
       "      <th>slotsize</th>\n",
       "      <th>usertag_16753</th>\n",
       "      <th>usertag_11944</th>\n",
       "      <th>usertag_null</th>\n",
       "      <th>usertag_16617</th>\n",
       "      <th>usertag_10684</th>\n",
       "      <th>usertag_10117</th>\n",
       "      <th>usertag_10123</th>\n",
       "      <th>usertag_10063</th>\n",
       "      <th>usertag_11092</th>\n",
       "      <th>usertag_10114</th>\n",
       "      <th>usertag_10140</th>\n",
       "      <th>usertag_10138</th>\n",
       "      <th>usertag_10110</th>\n",
       "      <th>usertag_10048</th>\n",
       "      <th>usertag_10077</th>\n",
       "      <th>usertag_10142</th>\n",
       "      <th>usertag_10116</th>\n",
       "      <th>usertag_13874</th>\n",
       "      <th>usertag_10057</th>\n",
       "      <th>usertag_11680</th>\n",
       "      <th>usertag_14273</th>\n",
       "      <th>usertag_10079</th>\n",
       "      <th>usertag_15398</th>\n",
       "      <th>usertag_11379</th>\n",
       "      <th>usertag_13866</th>\n",
       "      <th>usertag_16706</th>\n",
       "      <th>usertag_10125</th>\n",
       "      <th>usertag_10075</th>\n",
       "      <th>usertag_10133</th>\n",
       "      <th>usertag_10076</th>\n",
       "      <th>usertag_16661</th>\n",
       "      <th>usertag_13776</th>\n",
       "      <th>usertag_13678</th>\n",
       "      <th>usertag_16593</th>\n",
       "      <th>usertag_10126</th>\n",
       "      <th>usertag_10102</th>\n",
       "      <th>usertag_10146</th>\n",
       "      <th>usertag_10145</th>\n",
       "      <th>usertag_10111</th>\n",
       "      <th>usertag_10148</th>\n",
       "      <th>usertag_10127</th>\n",
       "      <th>usertag_13403</th>\n",
       "      <th>usertag_10067</th>\n",
       "      <th>usertag_11576</th>\n",
       "      <th>usertag_10131</th>\n",
       "      <th>usertag_10130</th>\n",
       "      <th>usertag_11632</th>\n",
       "      <th>usertag_10149</th>\n",
       "      <th>usertag_10115</th>\n",
       "      <th>usertag_10083</th>\n",
       "      <th>usertag_16751</th>\n",
       "      <th>usertag_10006</th>\n",
       "      <th>usertag_10052</th>\n",
       "      <th>usertag_10120</th>\n",
       "      <th>usertag_10059</th>\n",
       "      <th>usertag_11512</th>\n",
       "      <th>usertag_13042</th>\n",
       "      <th>usertag_10093</th>\n",
       "      <th>usertag_10031</th>\n",
       "      <th>usertag_10024</th>\n",
       "      <th>usertag_10074</th>\n",
       "      <th>usertag_11423</th>\n",
       "      <th>usertag_10129</th>\n",
       "      <th>usertag_10147</th>\n",
       "      <th>usertag_10118</th>\n",
       "      <th>usertag_13800</th>\n",
       "      <th>usertag_11278</th>\n",
       "      <th>usertag_11724</th>\n",
       "      <th>usertag_13496</th>\n",
       "    </tr>\n",
       "  </thead>\n",
       "  <tbody>\n",
       "    <tr>\n",
       "      <th>2132810</th>\n",
       "      <td>0</td>\n",
       "      <td>4</td>\n",
       "      <td>0</td>\n",
       "      <td>8ba53abc8ba3616d047c2009564dcfea57cfce28</td>\n",
       "      <td>b428f2875e47682e273d0f1d0e8a4849d5eb9152</td>\n",
       "      <td>windows_ie</td>\n",
       "      <td>122.64.20.*</td>\n",
       "      <td>65</td>\n",
       "      <td>65</td>\n",
       "      <td>1</td>\n",
       "      <td>trqRTu1YP5scFsf</td>\n",
       "      <td>d7d131a423a62f44dafd777e3948dae7</td>\n",
       "      <td>null</td>\n",
       "      <td>mm_10075660_3500949_11453278</td>\n",
       "      <td>950</td>\n",
       "      <td>90</td>\n",
       "      <td>0</td>\n",
       "      <td>1</td>\n",
       "      <td>0</td>\n",
       "      <td>cc9b344e950b4f8c2b96537174a343b7</td>\n",
       "      <td>227</td>\n",
       "      <td>48</td>\n",
       "      <td>d29e59bf0f7f8243858b8183f14d4412</td>\n",
       "      <td>3358</td>\n",
       "      <td>10057,10006</td>\n",
       "      <td>windows</td>\n",
       "      <td>ie</td>\n",
       "      <td>85500</td>\n",
       "      <td>0</td>\n",
       "      <td>0</td>\n",
       "      <td>0</td>\n",
       "      <td>0</td>\n",
       "      <td>0</td>\n",
       "      <td>0</td>\n",
       "      <td>0</td>\n",
       "      <td>0</td>\n",
       "      <td>0</td>\n",
       "      <td>0</td>\n",
       "      <td>0</td>\n",
       "      <td>0</td>\n",
       "      <td>0</td>\n",
       "      <td>0</td>\n",
       "      <td>0</td>\n",
       "      <td>0</td>\n",
       "      <td>0</td>\n",
       "      <td>0</td>\n",
       "      <td>1</td>\n",
       "      <td>0</td>\n",
       "      <td>0</td>\n",
       "      <td>0</td>\n",
       "      <td>0</td>\n",
       "      <td>0</td>\n",
       "      <td>0</td>\n",
       "      <td>0</td>\n",
       "      <td>0</td>\n",
       "      <td>0</td>\n",
       "      <td>0</td>\n",
       "      <td>0</td>\n",
       "      <td>0</td>\n",
       "      <td>0</td>\n",
       "      <td>0</td>\n",
       "      <td>0</td>\n",
       "      <td>0</td>\n",
       "      <td>0</td>\n",
       "      <td>0</td>\n",
       "      <td>0</td>\n",
       "      <td>0</td>\n",
       "      <td>0</td>\n",
       "      <td>0</td>\n",
       "      <td>0</td>\n",
       "      <td>0</td>\n",
       "      <td>0</td>\n",
       "      <td>0</td>\n",
       "      <td>0</td>\n",
       "      <td>0</td>\n",
       "      <td>0</td>\n",
       "      <td>0</td>\n",
       "      <td>0</td>\n",
       "      <td>0</td>\n",
       "      <td>1</td>\n",
       "      <td>0</td>\n",
       "      <td>0</td>\n",
       "      <td>0</td>\n",
       "      <td>0</td>\n",
       "      <td>0</td>\n",
       "      <td>0</td>\n",
       "      <td>0</td>\n",
       "      <td>0</td>\n",
       "      <td>0</td>\n",
       "      <td>0</td>\n",
       "      <td>0</td>\n",
       "      <td>0</td>\n",
       "      <td>0</td>\n",
       "      <td>0</td>\n",
       "      <td>0</td>\n",
       "      <td>0</td>\n",
       "      <td>0</td>\n",
       "    </tr>\n",
       "    <tr>\n",
       "      <th>61849</th>\n",
       "      <td>0</td>\n",
       "      <td>1</td>\n",
       "      <td>16</td>\n",
       "      <td>905f3c265be3c247576a06e1ee9a8e69bd484833</td>\n",
       "      <td>58ed40ae1c47c6e977fcf4a2bd5b36334a4e5a46</td>\n",
       "      <td>windows_ie</td>\n",
       "      <td>113.109.112.*</td>\n",
       "      <td>216</td>\n",
       "      <td>217</td>\n",
       "      <td>3</td>\n",
       "      <td>a05e2e05e42bd2dd5d5c0e182f9dab4e</td>\n",
       "      <td>e995a770896adf3b22e3cb58f487987d</td>\n",
       "      <td>null</td>\n",
       "      <td>Astro_F_Upright</td>\n",
       "      <td>300</td>\n",
       "      <td>250</td>\n",
       "      <td>Na</td>\n",
       "      <td>Na</td>\n",
       "      <td>20</td>\n",
       "      <td>7323</td>\n",
       "      <td>294</td>\n",
       "      <td>160</td>\n",
       "      <td>null</td>\n",
       "      <td>2259</td>\n",
       "      <td>10059,10077,10006,10111,10127,13403,10063,10116</td>\n",
       "      <td>windows</td>\n",
       "      <td>ie</td>\n",
       "      <td>75000</td>\n",
       "      <td>0</td>\n",
       "      <td>0</td>\n",
       "      <td>0</td>\n",
       "      <td>0</td>\n",
       "      <td>0</td>\n",
       "      <td>0</td>\n",
       "      <td>0</td>\n",
       "      <td>1</td>\n",
       "      <td>0</td>\n",
       "      <td>0</td>\n",
       "      <td>0</td>\n",
       "      <td>0</td>\n",
       "      <td>0</td>\n",
       "      <td>0</td>\n",
       "      <td>1</td>\n",
       "      <td>0</td>\n",
       "      <td>1</td>\n",
       "      <td>0</td>\n",
       "      <td>0</td>\n",
       "      <td>0</td>\n",
       "      <td>0</td>\n",
       "      <td>0</td>\n",
       "      <td>0</td>\n",
       "      <td>0</td>\n",
       "      <td>0</td>\n",
       "      <td>0</td>\n",
       "      <td>0</td>\n",
       "      <td>0</td>\n",
       "      <td>0</td>\n",
       "      <td>0</td>\n",
       "      <td>0</td>\n",
       "      <td>0</td>\n",
       "      <td>0</td>\n",
       "      <td>0</td>\n",
       "      <td>0</td>\n",
       "      <td>0</td>\n",
       "      <td>0</td>\n",
       "      <td>0</td>\n",
       "      <td>1</td>\n",
       "      <td>0</td>\n",
       "      <td>1</td>\n",
       "      <td>1</td>\n",
       "      <td>0</td>\n",
       "      <td>0</td>\n",
       "      <td>0</td>\n",
       "      <td>0</td>\n",
       "      <td>0</td>\n",
       "      <td>0</td>\n",
       "      <td>0</td>\n",
       "      <td>0</td>\n",
       "      <td>0</td>\n",
       "      <td>1</td>\n",
       "      <td>0</td>\n",
       "      <td>0</td>\n",
       "      <td>1</td>\n",
       "      <td>0</td>\n",
       "      <td>0</td>\n",
       "      <td>0</td>\n",
       "      <td>0</td>\n",
       "      <td>0</td>\n",
       "      <td>0</td>\n",
       "      <td>0</td>\n",
       "      <td>0</td>\n",
       "      <td>0</td>\n",
       "      <td>0</td>\n",
       "      <td>0</td>\n",
       "      <td>0</td>\n",
       "      <td>0</td>\n",
       "      <td>0</td>\n",
       "    </tr>\n",
       "    <tr>\n",
       "      <th>1160586</th>\n",
       "      <td>0</td>\n",
       "      <td>1</td>\n",
       "      <td>23</td>\n",
       "      <td>2624a9584826ba032001015d07f03f61854a57ce</td>\n",
       "      <td>265655a0a6eff046d7aebed19651a7a2b70b7064</td>\n",
       "      <td>windows_chrome</td>\n",
       "      <td>222.178.220.*</td>\n",
       "      <td>275</td>\n",
       "      <td>275</td>\n",
       "      <td>1</td>\n",
       "      <td>5F97t5E0BTK7XhNrUMpENpn</td>\n",
       "      <td>dedc488b98ca20707bc9a723957e7d1f</td>\n",
       "      <td>null</td>\n",
       "      <td>mm_10027070_118039_10308280</td>\n",
       "      <td>160</td>\n",
       "      <td>600</td>\n",
       "      <td>2</td>\n",
       "      <td>1</td>\n",
       "      <td>0</td>\n",
       "      <td>62f7f9a6dca2f80cc00f17dcda730bc1</td>\n",
       "      <td>227</td>\n",
       "      <td>88</td>\n",
       "      <td>b2e35064f3549d447edbbdfb1f707c8c</td>\n",
       "      <td>3427</td>\n",
       "      <td>13678,10076,10024,10063,10059,10077,10075,1000...</td>\n",
       "      <td>windows</td>\n",
       "      <td>chrome</td>\n",
       "      <td>96000</td>\n",
       "      <td>0</td>\n",
       "      <td>0</td>\n",
       "      <td>0</td>\n",
       "      <td>0</td>\n",
       "      <td>0</td>\n",
       "      <td>0</td>\n",
       "      <td>0</td>\n",
       "      <td>1</td>\n",
       "      <td>0</td>\n",
       "      <td>0</td>\n",
       "      <td>0</td>\n",
       "      <td>0</td>\n",
       "      <td>0</td>\n",
       "      <td>0</td>\n",
       "      <td>1</td>\n",
       "      <td>0</td>\n",
       "      <td>0</td>\n",
       "      <td>0</td>\n",
       "      <td>0</td>\n",
       "      <td>0</td>\n",
       "      <td>0</td>\n",
       "      <td>0</td>\n",
       "      <td>0</td>\n",
       "      <td>0</td>\n",
       "      <td>1</td>\n",
       "      <td>0</td>\n",
       "      <td>0</td>\n",
       "      <td>1</td>\n",
       "      <td>0</td>\n",
       "      <td>1</td>\n",
       "      <td>0</td>\n",
       "      <td>0</td>\n",
       "      <td>1</td>\n",
       "      <td>0</td>\n",
       "      <td>0</td>\n",
       "      <td>0</td>\n",
       "      <td>0</td>\n",
       "      <td>0</td>\n",
       "      <td>1</td>\n",
       "      <td>0</td>\n",
       "      <td>0</td>\n",
       "      <td>0</td>\n",
       "      <td>0</td>\n",
       "      <td>0</td>\n",
       "      <td>0</td>\n",
       "      <td>0</td>\n",
       "      <td>0</td>\n",
       "      <td>0</td>\n",
       "      <td>0</td>\n",
       "      <td>0</td>\n",
       "      <td>0</td>\n",
       "      <td>1</td>\n",
       "      <td>0</td>\n",
       "      <td>0</td>\n",
       "      <td>1</td>\n",
       "      <td>0</td>\n",
       "      <td>0</td>\n",
       "      <td>0</td>\n",
       "      <td>0</td>\n",
       "      <td>1</td>\n",
       "      <td>0</td>\n",
       "      <td>0</td>\n",
       "      <td>0</td>\n",
       "      <td>0</td>\n",
       "      <td>0</td>\n",
       "      <td>0</td>\n",
       "      <td>0</td>\n",
       "      <td>0</td>\n",
       "      <td>0</td>\n",
       "    </tr>\n",
       "    <tr>\n",
       "      <th>1435395</th>\n",
       "      <td>0</td>\n",
       "      <td>0</td>\n",
       "      <td>17</td>\n",
       "      <td>7c65c069215bac2c9c09b066c735a4274f6f163f</td>\n",
       "      <td>c164ce57645345b7083fbea3055432144ce9a982</td>\n",
       "      <td>windows_ie</td>\n",
       "      <td>182.99.50.*</td>\n",
       "      <td>134</td>\n",
       "      <td>136</td>\n",
       "      <td>3</td>\n",
       "      <td>31drTvprdN1RFt</td>\n",
       "      <td>8f048779fa0a0641507345cd8cc63de4</td>\n",
       "      <td>null</td>\n",
       "      <td>Edu_F_Width1</td>\n",
       "      <td>1000</td>\n",
       "      <td>90</td>\n",
       "      <td>0</td>\n",
       "      <td>0</td>\n",
       "      <td>50</td>\n",
       "      <td>832b91d59d0cb5731431653204a76c0e</td>\n",
       "      <td>300</td>\n",
       "      <td>50</td>\n",
       "      <td>bebefa5efe83beee17a3d245e7c5085b</td>\n",
       "      <td>1458</td>\n",
       "      <td>10024,13403,13866,10057,10083,10052,10075,1006...</td>\n",
       "      <td>windows</td>\n",
       "      <td>ie</td>\n",
       "      <td>90000</td>\n",
       "      <td>0</td>\n",
       "      <td>0</td>\n",
       "      <td>0</td>\n",
       "      <td>0</td>\n",
       "      <td>0</td>\n",
       "      <td>0</td>\n",
       "      <td>0</td>\n",
       "      <td>1</td>\n",
       "      <td>0</td>\n",
       "      <td>0</td>\n",
       "      <td>0</td>\n",
       "      <td>0</td>\n",
       "      <td>1</td>\n",
       "      <td>0</td>\n",
       "      <td>0</td>\n",
       "      <td>0</td>\n",
       "      <td>0</td>\n",
       "      <td>0</td>\n",
       "      <td>1</td>\n",
       "      <td>0</td>\n",
       "      <td>1</td>\n",
       "      <td>0</td>\n",
       "      <td>0</td>\n",
       "      <td>0</td>\n",
       "      <td>1</td>\n",
       "      <td>0</td>\n",
       "      <td>0</td>\n",
       "      <td>1</td>\n",
       "      <td>0</td>\n",
       "      <td>1</td>\n",
       "      <td>0</td>\n",
       "      <td>1</td>\n",
       "      <td>0</td>\n",
       "      <td>0</td>\n",
       "      <td>0</td>\n",
       "      <td>0</td>\n",
       "      <td>0</td>\n",
       "      <td>0</td>\n",
       "      <td>0</td>\n",
       "      <td>0</td>\n",
       "      <td>0</td>\n",
       "      <td>1</td>\n",
       "      <td>0</td>\n",
       "      <td>0</td>\n",
       "      <td>0</td>\n",
       "      <td>0</td>\n",
       "      <td>0</td>\n",
       "      <td>0</td>\n",
       "      <td>0</td>\n",
       "      <td>1</td>\n",
       "      <td>0</td>\n",
       "      <td>1</td>\n",
       "      <td>1</td>\n",
       "      <td>0</td>\n",
       "      <td>0</td>\n",
       "      <td>0</td>\n",
       "      <td>0</td>\n",
       "      <td>0</td>\n",
       "      <td>1</td>\n",
       "      <td>1</td>\n",
       "      <td>0</td>\n",
       "      <td>0</td>\n",
       "      <td>0</td>\n",
       "      <td>0</td>\n",
       "      <td>0</td>\n",
       "      <td>1</td>\n",
       "      <td>0</td>\n",
       "      <td>0</td>\n",
       "      <td>0</td>\n",
       "    </tr>\n",
       "    <tr>\n",
       "      <th>1174928</th>\n",
       "      <td>0</td>\n",
       "      <td>4</td>\n",
       "      <td>16</td>\n",
       "      <td>1def0943bdd70d4a743a540aed1d7af0f1eec49c</td>\n",
       "      <td>b8f644bf80dc47810924c5ba0cfdc1d5919f2389</td>\n",
       "      <td>windows_chrome</td>\n",
       "      <td>123.152.128.*</td>\n",
       "      <td>94</td>\n",
       "      <td>96</td>\n",
       "      <td>3</td>\n",
       "      <td>ersbQv1RdoTy1m58uG</td>\n",
       "      <td>3cdc190209dbcbe903d8cbdb99536277</td>\n",
       "      <td>null</td>\n",
       "      <td>ALLINONE_F_Width1</td>\n",
       "      <td>1000</td>\n",
       "      <td>90</td>\n",
       "      <td>0</td>\n",
       "      <td>0</td>\n",
       "      <td>70</td>\n",
       "      <td>86c2543527c86a893d4d4f68810a0416</td>\n",
       "      <td>300</td>\n",
       "      <td>70</td>\n",
       "      <td>43f4a37f42a7c5e6219e2601b26c6976</td>\n",
       "      <td>3386</td>\n",
       "      <td>13403,13800,10083,10063,10031,10057,10006,1007...</td>\n",
       "      <td>windows</td>\n",
       "      <td>chrome</td>\n",
       "      <td>90000</td>\n",
       "      <td>0</td>\n",
       "      <td>0</td>\n",
       "      <td>0</td>\n",
       "      <td>0</td>\n",
       "      <td>0</td>\n",
       "      <td>0</td>\n",
       "      <td>0</td>\n",
       "      <td>1</td>\n",
       "      <td>0</td>\n",
       "      <td>0</td>\n",
       "      <td>0</td>\n",
       "      <td>0</td>\n",
       "      <td>1</td>\n",
       "      <td>1</td>\n",
       "      <td>1</td>\n",
       "      <td>0</td>\n",
       "      <td>0</td>\n",
       "      <td>0</td>\n",
       "      <td>1</td>\n",
       "      <td>0</td>\n",
       "      <td>1</td>\n",
       "      <td>0</td>\n",
       "      <td>0</td>\n",
       "      <td>0</td>\n",
       "      <td>0</td>\n",
       "      <td>0</td>\n",
       "      <td>0</td>\n",
       "      <td>1</td>\n",
       "      <td>0</td>\n",
       "      <td>0</td>\n",
       "      <td>0</td>\n",
       "      <td>0</td>\n",
       "      <td>0</td>\n",
       "      <td>0</td>\n",
       "      <td>0</td>\n",
       "      <td>0</td>\n",
       "      <td>0</td>\n",
       "      <td>0</td>\n",
       "      <td>0</td>\n",
       "      <td>0</td>\n",
       "      <td>0</td>\n",
       "      <td>1</td>\n",
       "      <td>0</td>\n",
       "      <td>0</td>\n",
       "      <td>0</td>\n",
       "      <td>0</td>\n",
       "      <td>0</td>\n",
       "      <td>0</td>\n",
       "      <td>0</td>\n",
       "      <td>1</td>\n",
       "      <td>0</td>\n",
       "      <td>1</td>\n",
       "      <td>1</td>\n",
       "      <td>0</td>\n",
       "      <td>0</td>\n",
       "      <td>0</td>\n",
       "      <td>0</td>\n",
       "      <td>0</td>\n",
       "      <td>1</td>\n",
       "      <td>1</td>\n",
       "      <td>0</td>\n",
       "      <td>0</td>\n",
       "      <td>0</td>\n",
       "      <td>0</td>\n",
       "      <td>0</td>\n",
       "      <td>1</td>\n",
       "      <td>0</td>\n",
       "      <td>0</td>\n",
       "      <td>0</td>\n",
       "    </tr>\n",
       "  </tbody>\n",
       "</table>\n",
       "</div>"
      ],
      "text/plain": [
       "         click  weekday  hour                                     bidid                                    userid       useragent             IP  region  city adexchange                            domain                               url urlid                        slotid  slotwidth  slotheight slotvisibility slotformat  slotprice                          creative  bidprice  payprice                           keypage  advertiser                                            usertag       os browser  slotsize  usertag_16753  usertag_11944  usertag_null  usertag_16617  usertag_10684  usertag_10117  usertag_10123  usertag_10063  usertag_11092  usertag_10114  usertag_10140  usertag_10138  usertag_10110  usertag_10048  usertag_10077  usertag_10142  usertag_10116  usertag_13874  usertag_10057  usertag_11680  usertag_14273  usertag_10079  usertag_15398  usertag_11379  usertag_13866  usertag_16706  usertag_10125  usertag_10075  usertag_10133  usertag_10076  usertag_16661  usertag_13776  \\\n",
       "2132810      0        4     0  8ba53abc8ba3616d047c2009564dcfea57cfce28  b428f2875e47682e273d0f1d0e8a4849d5eb9152      windows_ie    122.64.20.*      65    65          1                   trqRTu1YP5scFsf  d7d131a423a62f44dafd777e3948dae7  null  mm_10075660_3500949_11453278        950          90              0          1          0  cc9b344e950b4f8c2b96537174a343b7       227        48  d29e59bf0f7f8243858b8183f14d4412        3358                                        10057,10006  windows      ie     85500              0              0             0              0              0              0              0              0              0              0              0              0              0              0              0              0              0              0              1              0              0              0              0              0              0              0              0              0              0              0              0              0   \n",
       "61849        0        1    16  905f3c265be3c247576a06e1ee9a8e69bd484833  58ed40ae1c47c6e977fcf4a2bd5b36334a4e5a46      windows_ie  113.109.112.*     216   217          3  a05e2e05e42bd2dd5d5c0e182f9dab4e  e995a770896adf3b22e3cb58f487987d  null               Astro_F_Upright        300         250             Na         Na         20                              7323       294       160                              null        2259    10059,10077,10006,10111,10127,13403,10063,10116  windows      ie     75000              0              0             0              0              0              0              0              1              0              0              0              0              0              0              1              0              1              0              0              0              0              0              0              0              0              0              0              0              0              0              0              0   \n",
       "1160586      0        1    23  2624a9584826ba032001015d07f03f61854a57ce  265655a0a6eff046d7aebed19651a7a2b70b7064  windows_chrome  222.178.220.*     275   275          1           5F97t5E0BTK7XhNrUMpENpn  dedc488b98ca20707bc9a723957e7d1f  null   mm_10027070_118039_10308280        160         600              2          1          0  62f7f9a6dca2f80cc00f17dcda730bc1       227        88  b2e35064f3549d447edbbdfb1f707c8c        3427  13678,10076,10024,10063,10059,10077,10075,1000...  windows  chrome     96000              0              0             0              0              0              0              0              1              0              0              0              0              0              0              1              0              0              0              0              0              0              0              0              0              1              0              0              1              0              1              0              0   \n",
       "1435395      0        0    17  7c65c069215bac2c9c09b066c735a4274f6f163f  c164ce57645345b7083fbea3055432144ce9a982      windows_ie    182.99.50.*     134   136          3                    31drTvprdN1RFt  8f048779fa0a0641507345cd8cc63de4  null                  Edu_F_Width1       1000          90              0          0         50  832b91d59d0cb5731431653204a76c0e       300        50  bebefa5efe83beee17a3d245e7c5085b        1458  10024,13403,13866,10057,10083,10052,10075,1006...  windows      ie     90000              0              0             0              0              0              0              0              1              0              0              0              0              1              0              0              0              0              0              1              0              1              0              0              0              1              0              0              1              0              1              0              1   \n",
       "1174928      0        4    16  1def0943bdd70d4a743a540aed1d7af0f1eec49c  b8f644bf80dc47810924c5ba0cfdc1d5919f2389  windows_chrome  123.152.128.*      94    96          3                ersbQv1RdoTy1m58uG  3cdc190209dbcbe903d8cbdb99536277  null             ALLINONE_F_Width1       1000          90              0          0         70  86c2543527c86a893d4d4f68810a0416       300        70  43f4a37f42a7c5e6219e2601b26c6976        3386  13403,13800,10083,10063,10031,10057,10006,1007...  windows  chrome     90000              0              0             0              0              0              0              0              1              0              0              0              0              1              1              1              0              0              0              1              0              1              0              0              0              0              0              0              1              0              0              0              0   \n",
       "\n",
       "         usertag_13678  usertag_16593  usertag_10126  usertag_10102  usertag_10146  usertag_10145  usertag_10111  usertag_10148  usertag_10127  usertag_13403  usertag_10067  usertag_11576  usertag_10131  usertag_10130  usertag_11632  usertag_10149  usertag_10115  usertag_10083  usertag_16751  usertag_10006  usertag_10052  usertag_10120  usertag_10059  usertag_11512  usertag_13042  usertag_10093  usertag_10031  usertag_10024  usertag_10074  usertag_11423  usertag_10129  usertag_10147  usertag_10118  usertag_13800  usertag_11278  usertag_11724  usertag_13496  \n",
       "2132810              0              0              0              0              0              0              0              0              0              0              0              0              0              0              0              0              0              0              0              1              0              0              0              0              0              0              0              0              0              0              0              0              0              0              0              0              0  \n",
       "61849                0              0              0              0              0              0              1              0              1              1              0              0              0              0              0              0              0              0              0              1              0              0              1              0              0              0              0              0              0              0              0              0              0              0              0              0              0  \n",
       "1160586              1              0              0              0              0              0              1              0              0              0              0              0              0              0              0              0              0              0              0              1              0              0              1              0              0              0              0              1              0              0              0              0              0              0              0              0              0  \n",
       "1435395              0              0              0              0              0              0              0              0              0              1              0              0              0              0              0              0              0              1              0              1              1              0              0              0              0              0              1              1              0              0              0              0              0              1              0              0              0  \n",
       "1174928              0              0              0              0              0              0              0              0              0              1              0              0              0              0              0              0              0              1              0              1              1              0              0              0              0              0              1              1              0              0              0              0              0              1              0              0              0  "
      ]
     },
     "metadata": {},
     "output_type": "display_data"
    }
   ],
   "source": [
    "with pd.option_context('display.max_columns', None):\n",
    "    display(train_sample.head())"
   ]
  },
  {
   "cell_type": "code",
   "execution_count": 5,
   "metadata": {
    "collapsed": true
   },
   "outputs": [],
   "source": [
    "# with pd.option_context('display.max_rows', None):\n",
    "#     display(pd.value_counts(train_sample['usertag'].str.split(',').apply(lambda x: list(sorted(x))[0])))"
   ]
  },
  {
   "cell_type": "code",
   "execution_count": 6,
   "metadata": {
    "collapsed": true
   },
   "outputs": [],
   "source": [
    "# with pd.option_context('display.max_rows', None):\n",
    "#     display(pd.value_counts(train_sample['slotvisibility']))"
   ]
  },
  {
   "cell_type": "code",
   "execution_count": 12,
   "metadata": {
    "collapsed": true
   },
   "outputs": [],
   "source": [
    "# algo 1\n",
    "def preprocess_xgb_pctr(data):\n",
    "    pctr_x = data[['weekday', 'hour', 'advertiser', \n",
    "              'slotwidth', 'slotheight', 'slotprice']]\n",
    "    # region, city, slotformat, adexchange\n",
    "#     for discrete in ['region', 'city', 'slotformat', 'adexchange']:\n",
    "    return pctr_x\n",
    "preprocess_pctr = preprocess_xgb_pctr"
   ]
  },
  {
   "cell_type": "code",
   "execution_count": 6,
   "metadata": {},
   "outputs": [
    {
     "name": "stdout",
     "output_type": "stream",
     "text": [
      "slotvisibility 0 (11,)\n",
      "slotformat 0 (4,)\n",
      "region 0 (35,)\n",
      "city 0 (370,)\n",
      "os 0 (6,)\n",
      "browser 0 (9,)\n",
      "slotsize 0 (26,)\n"
     ]
    }
   ],
   "source": [
    "from sklearn.preprocessing import OneHotEncoder, LabelEncoder\n",
    "import gc\n",
    "\n",
    "# algo 2\n",
    "def get_train_one_hot_columns(column_name, threshold):\n",
    "    values = train_sample[column_name]\n",
    "    counts = pd.value_counts(values)\n",
    "    mask = values.isin(counts[counts > threshold].index)\n",
    "    df = pd.get_dummies(values[mask], prefix=column_name).columns\n",
    "    print(column_name, threshold, df.shape)\n",
    "    return df\n",
    "\n",
    "train_one_hot_columns = {}\n",
    "train_one_hot_columns['slotvisibility'] = get_train_one_hot_columns('slotvisibility', 0)\n",
    "train_one_hot_columns['slotformat'] = get_train_one_hot_columns('slotformat', 0)\n",
    "# train_one_hot_columns['region'] = get_train_one_hot_columns('region', 3000)\n",
    "train_one_hot_columns['region'] = get_train_one_hot_columns('region', 0)\n",
    "# train_one_hot_columns['city'] = get_train_one_hot_columns('city', 1000)\n",
    "train_one_hot_columns['city'] = get_train_one_hot_columns('city', 0)\n",
    "train_one_hot_columns['os'] = get_train_one_hot_columns('os', 0)\n",
    "train_one_hot_columns['browser'] = get_train_one_hot_columns('browser', 0)\n",
    "train_one_hot_columns['slotsize'] = get_train_one_hot_columns('slotsize', 0)\n",
    "train_usertag_columns = [column\n",
    "                         for column in train_sample.columns\n",
    "                         if column.startswith('usertag_')]\n",
    "\n",
    "def ensure_columns(df, column_list):\n",
    "    for col in np.setdiff1d(column_list, df.columns):\n",
    "        df[col] = 0\n",
    "    df = df[column_list]\n",
    "    return df\n",
    "\n",
    "def one_hot_encode(data, column):\n",
    "    train_columns = train_one_hot_columns[column]\n",
    "    one_hot_data = pd.get_dummies(data[column], prefix=column)\n",
    "    one_hot_data = ensure_columns(one_hot_data, train_columns)\n",
    "    return one_hot_data\n",
    "\n",
    "def preprocess_lg_pctr(data):\n",
    "    gc.collect()\n",
    "    pctr_x = data[['weekday', 'hour', 'adexchange', 'advertiser', \n",
    "              'slotwidth', 'slotheight']]\n",
    "    \n",
    "    pctr_x.loc[:,'adexchange'] = pd.to_numeric(pctr_x['adexchange'], errors='coerce')\n",
    "\n",
    "    usertag_df = pd.concat([data[column]\n",
    "                            for column in data.columns\n",
    "                            if column.startswith('usertag_')],\n",
    "                          axis=1)\n",
    "    usertag_df = ensure_columns(usertag_df, train_usertag_columns)\n",
    "\n",
    "    pctr_x = pd.concat([pctr_x, usertag_df], axis=1)\n",
    "\n",
    "    pctr_x = pd.concat([pctr_x, one_hot_encode(data, 'slotvisibility')], axis=1)\n",
    "    pctr_x = pd.concat([pctr_x, one_hot_encode(data, 'slotformat')], axis=1)\n",
    "    pctr_x = pd.concat([pctr_x, one_hot_encode(data, 'city')], axis=1)\n",
    "    pctr_x = pd.concat([pctr_x, one_hot_encode(data, 'region')], axis=1)\n",
    "    pctr_x = pd.concat([pctr_x, one_hot_encode(data, 'os')], axis=1)\n",
    "    pctr_x = pd.concat([pctr_x, one_hot_encode(data, 'browser')], axis=1)\n",
    "    pctr_x = pd.concat([pctr_x, one_hot_encode(data, 'slotsize')], axis=1)\n",
    "\n",
    "    # multiply by 1 to make True/False into 1/0\n",
    "    pctr_x.loc[:, 'floorprice0'] = 1*(data['slotprice'] == 0)\n",
    "    pctr_x.loc[:, 'floorprice1'] = 1*((1 <= data['slotprice']) & (data['slotprice'] <= 10))\n",
    "    pctr_x.loc[:, 'floorprice2'] = 1*((11 <= data['slotprice']) & (data['slotprice'] <= 50))\n",
    "    pctr_x.loc[:, 'floorprice3'] = 1*((51 <= data['slotprice']) & (data['slotprice'] <= 100))\n",
    "    pctr_x.loc[:, 'floorprice4'] = 1*((101 <= data['slotprice']))\n",
    "\n",
    "    pctr_x.fillna(0, inplace=True)\n",
    "    return pctr_x\n",
    "\n",
    "# gc.collect()\n",
    "preprocess_pctr = preprocess_lg_pctr"
   ]
  },
  {
   "cell_type": "code",
   "execution_count": 277,
   "metadata": {
    "collapsed": true
   },
   "outputs": [],
   "source": [
    "import gc\n",
    "\n",
    "# algo 3\n",
    "def freq_ctr_encode(data, column, value=False, one_hot=True):\n",
    "    ctr_data = train.groupby(column)['click'].mean()\n",
    "    ctr_data.name = 'ctr'\n",
    "    freq_data = train.groupby(column)['click'].count()\n",
    "    freq_data.name = 'freq'\n",
    "#     ecpc_data = train.groupby(column)['payprice'].sum()/(1000*train_sample.groupby(column)['click'].sum())\n",
    "#     ecpc_data[~np.isfinite(ecpc_data)] = 0\n",
    "#     ecpc_data.name = 'ecpc'\n",
    "    feat_data = pd.concat([ctr_data, freq_data, ecpc_data], axis=1)\n",
    "    result = data.join(feat_data, on=column, lsuffix='_' + column)\n",
    "#     result.rename(columns = {'ctr': 'ctr_'+column, 'freq': 'freq_'+column, 'ecpc': 'ecpc_'+column}, inplace=True)\n",
    "#     result_cols = ['ctr_'+column, 'freq_'+column, 'ecpc_'+column]\n",
    "    result.rename(columns = {'ctr': 'ctr_'+column, 'freq': 'freq_'+column}, inplace=True)\n",
    "    result_cols = ['ctr_'+column, 'freq_'+column]\n",
    "    if not value:\n",
    "        return result[result_cols]\n",
    "    if one_hot:\n",
    "        return pd.concat([result[result_cols], \n",
    "                          one_hot_encode(data, column)\n",
    "                         ], axis=1)\n",
    "    return result[result_cols + [column]]\n",
    "\n",
    "def freq_ctr_encode_tag(data, tag):\n",
    "    mask = train[tag] == 1\n",
    "    tag_data = train[mask]\n",
    "    ctr_data = tag_data['click'].mean()\n",
    "#     freq_data = tag_data['click'].count()\n",
    "#     ecpc_data = tag_data['payprice'].sum()/(1000*tag_data['click'].sum())\n",
    "#     if np.any(~np.isfinite(ecpc_data)):\n",
    "#         ecpc_data = 0\n",
    "#     result = pd.DataFrame({'ctr_'+tag: data[tag], 'freq_'+tag: data[tag], 'ecpc_'+tag: data[tag]})\n",
    "    result = pd.DataFrame({'ctr_'+tag: data[tag]})\n",
    "    result.loc[mask, 'ctr_'+tag] = ctr_data\n",
    "#     result.loc[mask, 'freq_'+tag] = freq_data\n",
    "#     result.loc[mask, 'ecpc_'+tag] = ecpc_data\n",
    "    return result\n",
    "\n",
    "def preprocess_super_pctr(data):\n",
    "    gc.collect()\n",
    "    pctr_x = data[['weekday', 'hour', 'adexchange', 'advertiser','slotwidth', 'slotheight', 'slotprice']]\n",
    "    pctr_x.loc[:,'adexchange'] = pd.to_numeric(pctr_x['adexchange'], errors='coerce')\n",
    "    usertag_df = pd.concat([data[column]\n",
    "                            for column in data.columns\n",
    "                            if column.startswith('usertag_')],\n",
    "                          axis=1)\n",
    "    usertag_df = ensure_columns(usertag_df, train_usertag_columns)\n",
    "\n",
    "    pctr_x = pd.concat([pctr_x] + [freq_ctr_encode_tag(usertag_df, column)\n",
    "                                   for column in usertag_df.columns], axis=1)\n",
    "\n",
    "    pctr_x = pd.concat([pctr_x, freq_ctr_encode(data, 'weekday')], axis=1)\n",
    "    pctr_x = pd.concat([pctr_x, freq_ctr_encode(data, 'hour')], axis=1)\n",
    "    pctr_x = pd.concat([pctr_x, freq_ctr_encode(data, 'advertiser')], axis=1)\n",
    "    pctr_x = pd.concat([pctr_x, freq_ctr_encode(data, 'adexchange')], axis=1)\n",
    "\n",
    "    pctr_x = pd.concat([pctr_x, freq_ctr_encode(data, 'slotvisibility')], axis=1)\n",
    "    pctr_x = pd.concat([pctr_x, freq_ctr_encode(data, 'slotformat')], axis=1)\n",
    "    pctr_x = pd.concat([pctr_x, freq_ctr_encode(data, 'city')], axis=1)\n",
    "    pctr_x = pd.concat([pctr_x, freq_ctr_encode(data, 'region')], axis=1)\n",
    "    pctr_x = pd.concat([pctr_x, freq_ctr_encode(data, 'os')], axis=1)\n",
    "    pctr_x = pd.concat([pctr_x, freq_ctr_encode(data, 'browser')], axis=1)\n",
    "    pctr_x = pd.concat([pctr_x, freq_ctr_encode(data, 'slotsize')], axis=1)\n",
    "\n",
    "#     pctr_x = pd.concat([pctr_x, one_hot_encode(data, 'slotvisibility')], axis=1)\n",
    "#     pctr_x = pd.concat([pctr_x, one_hot_encode(data, 'slotformat')], axis=1)\n",
    "#     pctr_x = pd.concat([pctr_x, one_hot_encode(data, 'city')], axis=1)\n",
    "#     pctr_x = pd.concat([pctr_x, one_hot_encode(data, 'region')], axis=1)\n",
    "#     pctr_x = pd.concat([pctr_x, one_hot_encode(data, 'os')], axis=1)\n",
    "#     pctr_x = pd.concat([pctr_x, one_hot_encode(data, 'browser')], axis=1)\n",
    "#     pctr_x = pd.concat([pctr_x, one_hot_encode(data, 'slotsize')], axis=1)\n",
    "\n",
    "    # multiply by 1 to make True/False into 1/0\n",
    "#     train_sample[(train_sample['slotprice'] < 100) & (train_sample['slotprice'] > 0)]['slotprice'].plot.kde()\n",
    "#     plt.show()\n",
    "\n",
    "#     for colnum, span in enumerate([(None, 0), (1, 10), (11, 25), (26, 60), (61, 75), (76, 100), (101, None)]):\n",
    "#         pctr_x.loc[:, 'floorprice' + str(colnum)] = 0\n",
    "#         if span[0] is None:\n",
    "#             data_mask = (data['slotprice'] <= span[0])\n",
    "#             train_mask = (train['slotprice'] <= span[0])\n",
    "#         elif span[1] is None:\n",
    "#             data_mask = (data['slotprice'] >= span[1])\n",
    "#             train_mask = (train['slotprice'] >= span[1])\n",
    "#         else:\n",
    "#             data_mask = ((span[0] <= data['slotprice']) & (data['slotprice'] <= span[1]))\n",
    "#             train_mask = ((span[0] <= train['slotprice']) & (train['slotprice'] <= span[1]))\n",
    "#         pctr_x.loc[data_mask, 'floorprice0'] = train[train_mask]['click'].mean()\n",
    "\n",
    "#     pctr_x.loc[:, 'floorprice0'] = 1*(data['slotprice'] <= 0)\n",
    "#     pctr_x.loc[:, 'floorprice1'] = 1*((1 <= data['slotprice']) & (data['slotprice'] <= 10))\n",
    "#     pctr_x.loc[:, 'floorprice2'] = 1*((11 <= data['slotprice']) & (data['slotprice'] <= 25))\n",
    "#     pctr_x.loc[:, 'floorprice3'] = 1*((26 <= data['slotprice']) & (data['slotprice'] <= 60))\n",
    "#     pctr_x.loc[:, 'floorprice4'] = 1*((61 <= data['slotprice']) & (data['slotprice'] <= 75))\n",
    "#     pctr_x.loc[:, 'floorprice5'] = 1*((76 <= data['slotprice']) & (data['slotprice'] <= 100))\n",
    "#     pctr_x.loc[:, 'floorprice6'] = 1*((101 <= data['slotprice']))\n",
    "\n",
    "    pctr_x.fillna(0, inplace=True)\n",
    "    return pctr_x\n",
    "\n",
    "# gc.collect()\n",
    "preprocess_pctr = preprocess_super_pctr"
   ]
  },
  {
   "cell_type": "code",
   "execution_count": 7,
   "metadata": {},
   "outputs": [
    {
     "data": {
      "text/plain": [
       "<function __main__.preprocess_lg_pctr>"
      ]
     },
     "execution_count": 7,
     "metadata": {},
     "output_type": "execute_result"
    }
   ],
   "source": [
    "# CTR: train_sample.groupby('region')['click'].mean()\n",
    "# frequency: train_sample.groupby('region')['click'].count()\n",
    "preprocess_pctr"
   ]
  },
  {
   "cell_type": "code",
   "execution_count": 22,
   "metadata": {
    "collapsed": true
   },
   "outputs": [],
   "source": [
    "# result = train_sample['usertag'].str.split(',')\n",
    "# result = np.array(result.tolist())\n",
    "# # data['os'] = np.array(result.tolist())[:,0]\n",
    "# # data['browser'] = np.array(result.tolist())[:,1]"
   ]
  },
  {
   "cell_type": "code",
   "execution_count": 82,
   "metadata": {},
   "outputs": [
    {
     "data": {
      "text/plain": [
       "13973"
      ]
     },
     "execution_count": 82,
     "metadata": {},
     "output_type": "execute_result"
    }
   ],
   "source": [
    "len(train_sample['slotid'].unique())"
   ]
  },
  {
   "cell_type": "code",
   "execution_count": 27,
   "metadata": {
    "collapsed": true
   },
   "outputs": [],
   "source": [
    "\n",
    "# bid = base bid×pCT R/avgCT R"
   ]
  },
  {
   "cell_type": "code",
   "execution_count": 40,
   "metadata": {
    "collapsed": true
   },
   "outputs": [],
   "source": [
    "# pctr_train_y = train_sample['click']\n",
    "# pctr_train_x = preprocess_lg_pctr(train_sample)\n",
    "# lg = linear_model.LogisticRegression()\n",
    "# lg.fit(pctr_train_x, pctr_train_y)"
   ]
  },
  {
   "cell_type": "code",
   "execution_count": 41,
   "metadata": {
    "collapsed": true
   },
   "outputs": [],
   "source": [
    "# pctr_train_x.head()"
   ]
  },
  {
   "cell_type": "code",
   "execution_count": 42,
   "metadata": {
    "collapsed": true
   },
   "outputs": [],
   "source": [
    "# logistic_pctr = lg.predict_proba(pctr_train_x)\n",
    "# avgCTR = train_sample['click'].mean()\n",
    "# lr = linear_model.LinearRegression(fit_intercept=False)\n",
    "# lr_feat_x = logistic_pctr[:,1]/avgCTR\n",
    "# lr_feat_x = lr_feat_x.reshape(-1, 1)\n",
    "# print (lr_feat_x.shape)\n",
    "# print(train_sample['bidprice'].shape)\n",
    "# lr.fit(lr_feat_x, train_sample['bidprice'])"
   ]
  },
  {
   "cell_type": "code",
   "execution_count": 43,
   "metadata": {
    "collapsed": true
   },
   "outputs": [],
   "source": [
    "\n",
    "\n",
    "\n",
    "# lr.coef_"
   ]
  },
  {
   "cell_type": "code",
   "execution_count": 44,
   "metadata": {
    "collapsed": true
   },
   "outputs": [],
   "source": [
    "# logistic_pctr[:,1]"
   ]
  },
  {
   "cell_type": "code",
   "execution_count": 45,
   "metadata": {
    "collapsed": true
   },
   "outputs": [],
   "source": [
    "# # bid = base bid×pCT R/avgCT R\n",
    "\n",
    "# pctr_valid_x = preprocess_lg_pctr(validation)\n",
    "# logistic_pctr = lg.predict_proba(pctr_valid_x)\n",
    "# base_bid = lr.coef_ * 1.2\n",
    "# logistic_bids = base_bid * logistic_pctr[:,1]/avgCTR\n",
    "# evaluate_metrics(logistic_bids)"
   ]
  },
  {
   "cell_type": "code",
   "execution_count": 46,
   "metadata": {
    "collapsed": true
   },
   "outputs": [],
   "source": [
    "# # bid = base bid×pCT R/avgCT R\n",
    "\n",
    "# pctr_valid_x = preprocess_lg_pctr(validation)\n",
    "# logistic_pctr = lg.predict_proba(pctr_valid_x)\n",
    "# base_bid = lr.coef_ * 1.2\n",
    "# logistic_bids = base_bid * logistic_pctr[:,1]/avgCTR\n",
    "# evaluate_metrics(logistic_bids)"
   ]
  },
  {
   "cell_type": "code",
   "execution_count": 47,
   "metadata": {
    "collapsed": true
   },
   "outputs": [],
   "source": [
    "# for basebid in range(20,100):\n",
    "#     sum = 6250 * 1000\n",
    "#     clicks = 0\n",
    "#     for pay,click,pCTR in zip(validation[\"payprice\"],validation['click'],logistic_pctr[:,1]):\n",
    "#         sum_sub = sum - pay\n",
    "#         bidprice = basebid * pCTR / avgCTR\n",
    "#         if bidprice-pay > 0 and sum_sub >= 0:\n",
    "#             sum = sum_sub\n",
    "#             clicks += click\n",
    "#     print(basebid, clicks, sum)\n",
    "\n"
   ]
  },
  {
   "cell_type": "code",
   "execution_count": 48,
   "metadata": {
    "collapsed": true
   },
   "outputs": [],
   "source": [
    "# pctr_test_x = preprocess_lg_pctr(test)\n",
    "# logistic_pctr = lg.predict_proba(pctr_test_x)\n",
    "# base_bid = lr.coef_ * 1.2\n",
    "\n",
    "# logistic_bids = base_bid * logistic_pctr[:,1]/avgCTR\n"
   ]
  },
  {
   "cell_type": "code",
   "execution_count": 50,
   "metadata": {
    "collapsed": true
   },
   "outputs": [],
   "source": [
    "# lr.coef_"
   ]
  },
  {
   "cell_type": "code",
   "execution_count": 51,
   "metadata": {
    "collapsed": true
   },
   "outputs": [],
   "source": [
    "#####################################################Cv################################################################"
   ]
  },
  {
   "cell_type": "code",
   "execution_count": 130,
   "metadata": {
    "collapsed": true
   },
   "outputs": [],
   "source": [
    "# from sklearn.model_selection import cross_val_score\n"
   ]
  },
  {
   "cell_type": "code",
   "execution_count": 131,
   "metadata": {
    "collapsed": true
   },
   "outputs": [],
   "source": [
    "###################################çççççççççççççççççççççççççççç########################################################"
   ]
  },
  {
   "cell_type": "code",
   "execution_count": 8,
   "metadata": {},
   "outputs": [
    {
     "name": "stderr",
     "output_type": "stream",
     "text": [
      "/usr/local/lib/python3.6/site-packages/pandas/core/indexing.py:517: SettingWithCopyWarning: \n",
      "A value is trying to be set on a copy of a slice from a DataFrame.\n",
      "Try using .loc[row_indexer,col_indexer] = value instead\n",
      "\n",
      "See the caveats in the documentation: http://pandas.pydata.org/pandas-docs/stable/indexing.html#indexing-view-versus-copy\n",
      "  self.obj[item] = s\n"
     ]
    },
    {
     "name": "stdout",
     "output_type": "stream",
     "text": [
      "(243098, 541)\n",
      "CPU times: user 4.75 s, sys: 4.3 s, total: 9.05 s\n",
      "Wall time: 9.61 s\n"
     ]
    }
   ],
   "source": [
    "%%time\n",
    "\n",
    "pctr_train_x = preprocess_pctr(train_sample)\n",
    "assert(np.all(np.isfinite(pctr_train_x)))\n",
    "print(pctr_train_x.shape)\n",
    "pctr_train_x.head()"
   ]
  },
  {
   "cell_type": "code",
   "execution_count": 300,
   "metadata": {},
   "outputs": [
    {
     "name": "stdout",
     "output_type": "stream",
     "text": [
      "CPU times: user 9min 7s, sys: 9.59 s, total: 9min 17s\n",
      "Wall time: 2min 40s\n"
     ]
    }
   ],
   "source": [
    "# %%time\n",
    "# import xgboost as xgb\n",
    "\n",
    "# # algorithm 1:\n",
    "# # m = xgb.XGBClassifier(max_depth=5, n_estimators=50, learning_rate=0.05, n_jobs=4)\n",
    "# # algorithm 2:\n",
    "# m = xgb.XGBClassifier(max_depth=5, n_estimators=100, learning_rate=0.1, n_jobs=4)\n",
    "# # algorithm 3:\n",
    "# # auc 80\n",
    "# # m = linear_model.LogisticRegression(C=0.1, penalty='l1')\n",
    "# # m = neural_network.MLPClassifier(verbose=True, hidden_layer_sizes=(50, 50))\n",
    "# # m = xgb.XGBClassifier(max_depth=5, n_estimators=100, learning_rate=0.5, n_jobs=4)\n",
    "\n",
    "# pctr_train_y = train_sample['click']\n",
    "# m.fit(pctr_train_x, pctr_train_y)\n",
    "# xgb_pctr = m.predict_proba(pctr_train_x)"
   ]
  },
  {
   "cell_type": "code",
   "execution_count": 23,
   "metadata": {},
   "outputs": [
    {
     "name": "stdout",
     "output_type": "stream",
     "text": [
      "CPU times: user 20 s, sys: 2.7 s, total: 22.7 s\n",
      "Wall time: 23.1 s\n"
     ]
    }
   ],
   "source": [
    "%%time\n",
    "from sklearn.ensemble import RandomForestClassifier\n",
    "clf = RandomForestClassifier(n_estimators=100, max_depth=5, random_state=0)\n",
    "pctr_train_y = train_sample['click']\n",
    "clf.fit(pctr_train_x, pctr_train_y)\n",
    "rf_pctr = clf.predict_proba(pctr_train_x)"
   ]
  },
  {
   "cell_type": "code",
   "execution_count": 24,
   "metadata": {},
   "outputs": [
    {
     "name": "stdout",
     "output_type": "stream",
     "text": [
      "(243098, 1)\n",
      "(243098,)\n",
      "CPU times: user 13.6 ms, sys: 16.1 ms, total: 29.7 ms\n",
      "Wall time: 26.6 ms\n"
     ]
    }
   ],
   "source": [
    "%%time\n",
    "avgCTR = train_sample['click'].mean()\n",
    "lr = linear_model.LinearRegression(fit_intercept=False)\n",
    "lr_feat_x = rf_pctr[:,1]/avgCTR\n",
    "lr_feat_x = lr_feat_x.reshape(-1, 1)\n",
    "print (lr_feat_x.shape)\n",
    "print(train_sample['bidprice'].shape)\n",
    "lr.fit(lr_feat_x, train_sample['bidprice'])"
   ]
  },
  {
   "cell_type": "code",
   "execution_count": 303,
   "metadata": {
    "collapsed": true
   },
   "outputs": [],
   "source": [
    "# base_bid = lr.coef_ * 1.85\n",
    "# print(\"uhiedh\", 80.55 / lr.coef_ )"
   ]
  },
  {
   "cell_type": "code",
   "execution_count": 304,
   "metadata": {
    "collapsed": true
   },
   "outputs": [],
   "source": [
    "# pctr_valid_x = preprocess_lg_pctr(validation)\n",
    "# xgb_valid_pctr = m.predict_proba(pctr_valid_x)\n",
    "# base_bid = lr.coef_ * 1.84\n",
    "# xgb_bids = base_bid * xgb_valid_pctr[:,1]/avgCTR\n",
    "# evaluate_metrics(xgb_bids)"
   ]
  },
  {
   "cell_type": "code",
   "execution_count": 11,
   "metadata": {},
   "outputs": [
    {
     "name": "stderr",
     "output_type": "stream",
     "text": [
      "/usr/local/lib/python3.6/site-packages/pandas/core/indexing.py:517: SettingWithCopyWarning: \n",
      "A value is trying to be set on a copy of a slice from a DataFrame.\n",
      "Try using .loc[row_indexer,col_indexer] = value instead\n",
      "\n",
      "See the caveats in the documentation: http://pandas.pydata.org/pandas-docs/stable/indexing.html#indexing-view-versus-copy\n",
      "  self.obj[item] = s\n"
     ]
    },
    {
     "name": "stdout",
     "output_type": "stream",
     "text": [
      "CPU times: user 5.68 s, sys: 5.42 s, total: 11.1 s\n",
      "Wall time: 11.3 s\n"
     ]
    }
   ],
   "source": [
    "%%time\n",
    "pctr_valid_x = preprocess_pctr(validation)"
   ]
  },
  {
   "cell_type": "code",
   "execution_count": 25,
   "metadata": {},
   "outputs": [
    {
     "name": "stdout",
     "output_type": "stream",
     "text": [
      "CPU times: user 3.2 s, sys: 2.12 s, total: 5.32 s\n",
      "Wall time: 5.71 s\n"
     ]
    }
   ],
   "source": [
    "%%time\n",
    "rf_valid_pctr = clf.predict_proba(pctr_valid_x)"
   ]
  },
  {
   "cell_type": "code",
   "execution_count": 26,
   "metadata": {},
   "outputs": [
    {
     "data": {
      "text/html": [
       "<div>\n",
       "<style>\n",
       "    .dataframe thead tr:only-child th {\n",
       "        text-align: right;\n",
       "    }\n",
       "\n",
       "    .dataframe thead th {\n",
       "        text-align: left;\n",
       "    }\n",
       "\n",
       "    .dataframe tbody tr th {\n",
       "        vertical-align: top;\n",
       "    }\n",
       "</style>\n",
       "<table border=\"1\" class=\"dataframe\">\n",
       "  <thead>\n",
       "    <tr style=\"text-align: right;\">\n",
       "      <th></th>\n",
       "      <th>AUC</th>\n",
       "      <th>RMSE</th>\n",
       "    </tr>\n",
       "    <tr>\n",
       "      <th>Advertiser</th>\n",
       "      <th></th>\n",
       "      <th></th>\n",
       "    </tr>\n",
       "  </thead>\n",
       "  <tbody>\n",
       "    <tr>\n",
       "      <th>1458</th>\n",
       "      <td>0.865784</td>\n",
       "      <td>0.027866</td>\n",
       "    </tr>\n",
       "    <tr>\n",
       "      <th>3476</th>\n",
       "      <td>0.716689</td>\n",
       "      <td>0.016828</td>\n",
       "    </tr>\n",
       "    <tr>\n",
       "      <th>3358</th>\n",
       "      <td>0.805764</td>\n",
       "      <td>0.026325</td>\n",
       "    </tr>\n",
       "    <tr>\n",
       "      <th>3427</th>\n",
       "      <td>0.824149</td>\n",
       "      <td>0.027123</td>\n",
       "    </tr>\n",
       "    <tr>\n",
       "      <th>3386</th>\n",
       "      <td>0.705552</td>\n",
       "      <td>0.022183</td>\n",
       "    </tr>\n",
       "    <tr>\n",
       "      <th>2261</th>\n",
       "      <td>0.868630</td>\n",
       "      <td>0.014887</td>\n",
       "    </tr>\n",
       "    <tr>\n",
       "      <th>2821</th>\n",
       "      <td>0.571004</td>\n",
       "      <td>0.029450</td>\n",
       "    </tr>\n",
       "    <tr>\n",
       "      <th>2259</th>\n",
       "      <td>0.258063</td>\n",
       "      <td>0.010963</td>\n",
       "    </tr>\n",
       "    <tr>\n",
       "      <th>2997</th>\n",
       "      <td>0.567545</td>\n",
       "      <td>0.064771</td>\n",
       "    </tr>\n",
       "    <tr>\n",
       "      <th>All</th>\n",
       "      <td>0.795514</td>\n",
       "      <td>0.025714</td>\n",
       "    </tr>\n",
       "    <tr>\n",
       "      <th>Train</th>\n",
       "      <td>0.924515</td>\n",
       "      <td>0.027852</td>\n",
       "    </tr>\n",
       "  </tbody>\n",
       "</table>\n",
       "</div>"
      ],
      "text/plain": [
       "                 AUC      RMSE\n",
       "Advertiser                    \n",
       "1458        0.865784  0.027866\n",
       "3476        0.716689  0.016828\n",
       "3358        0.805764  0.026325\n",
       "3427        0.824149  0.027123\n",
       "3386        0.705552  0.022183\n",
       "2261        0.868630  0.014887\n",
       "2821        0.571004  0.029450\n",
       "2259        0.258063  0.010963\n",
       "2997        0.567545  0.064771\n",
       "All         0.795514  0.025714\n",
       "Train       0.924515  0.027852"
      ]
     },
     "execution_count": 26,
     "metadata": {},
     "output_type": "execute_result"
    }
   ],
   "source": [
    "\n",
    "from sklearn import metrics\n",
    "import math\n",
    "\n",
    "results = pd.DataFrame(columns = ['AUC', 'RMSE'])\n",
    "results.index.name = 'Advertiser'\n",
    "\n",
    "for advertiser in validation['advertiser'].unique():\n",
    "    mask = validation['advertiser'] == advertiser\n",
    "    adv_pctr_valid_x = pctr_valid_x[mask]\n",
    "    adv_clicks = validation[mask]['click']\n",
    "    adv_rf_valid_pctr = clf.predict_proba(adv_pctr_valid_x)[:,1]\n",
    "\n",
    "    adv_auc = metrics.roc_auc_score(adv_clicks, adv_rf_valid_pctr)\n",
    "    adv_rmse = math.sqrt(metrics.mean_squared_error(adv_clicks, adv_rf_valid_pctr))\n",
    "\n",
    "    results.loc[advertiser] = [adv_auc, adv_rmse]\n",
    "\n",
    "    \n",
    "all_auc = metrics.roc_auc_score(validation['click'], rf_valid_pctr[:,1])\n",
    "all_rmse = math.sqrt(metrics.mean_squared_error(validation['click'], rf_valid_pctr[:,1]))\n",
    "\n",
    "results.loc['All'] = [all_auc, all_rmse]\n",
    "\n",
    "train_auc = metrics.roc_auc_score(train_sample['click'], rf_pctr[:,1])\n",
    "train_rmse = math.sqrt(metrics.mean_squared_error(train_sample['click'], rf_pctr[:,1]))\n",
    "\n",
    "results.loc['Train'] = [train_auc, train_rmse]\n",
    "\n",
    "results"
   ]
  },
  {
   "cell_type": "code",
   "execution_count": 28,
   "metadata": {},
   "outputs": [
    {
     "name": "stdout",
     "output_type": "stream",
     "text": [
      "new best clicks: num clicks  45  scale  0.1  base bid  [ 115.69422137]  cost  262.784\n",
      "new best clicks: num clicks  46  scale  0.10990990991  base bid  [ 115.69422137]  cost  305.048\n",
      "new best clicks: num clicks  47  scale  0.11981981982  base bid  [ 115.69422137]  cost  350.335\n",
      "new best clicks: num clicks  50  scale  0.12972972973  base bid  [ 115.69422137]  cost  393.855\n",
      "new best clicks: num clicks  51  scale  0.13963963964  base bid  [ 115.69422137]  cost  440.383\n",
      "new best clicks: num clicks  53  scale  0.14954954955  base bid  [ 115.69422137]  cost  491.256\n",
      "new best clicks: num clicks  55  scale  0.159459459459  base bid  [ 115.69422137]  cost  537.975\n",
      "new best clicks: num clicks  59  scale  0.169369369369  base bid  [ 115.69422137]  cost  586.685\n",
      "new best clicks: num clicks  61  scale  0.179279279279  base bid  [ 115.69422137]  cost  642.197\n",
      "new best clicks: num clicks  63  scale  0.189189189189  base bid  [ 115.69422137]  cost  695.589\n",
      "new best clicks: num clicks  70  scale  0.209009009009  base bid  [ 115.69422137]  cost  863.353\n",
      "new best clicks: num clicks  72  scale  0.228828828829  base bid  [ 115.69422137]  cost  1051.124\n",
      "new best clicks: num clicks  75  scale  0.238738738739  base bid  [ 115.69422137]  cost  1145.448\n",
      "new best clicks: num clicks  77  scale  0.248648648649  base bid  [ 115.69422137]  cost  1233.001\n",
      "new best clicks: num clicks  78  scale  0.258558558559  base bid  [ 115.69422137]  cost  1337.43\n",
      "new best clicks: num clicks  80  scale  0.268468468468  base bid  [ 115.69422137]  cost  1444.776\n",
      "new best clicks: num clicks  83  scale  0.288288288288  base bid  [ 115.69422137]  cost  1629.749\n",
      "new best clicks: num clicks  88  scale  0.298198198198  base bid  [ 115.69422137]  cost  1707.483\n",
      "new best clicks: num clicks  89  scale  0.308108108108  base bid  [ 115.69422137]  cost  1779.916\n",
      "new best clicks: num clicks  90  scale  0.318018018018  base bid  [ 115.69422137]  cost  1853.903\n",
      "new best clicks: num clicks  92  scale  0.347747747748  base bid  [ 115.69422137]  cost  2060.34\n",
      "new best clicks: num clicks  94  scale  0.357657657658  base bid  [ 115.69422137]  cost  2131.025\n",
      "new best clicks: num clicks  97  scale  0.367567567568  base bid  [ 115.69422137]  cost  2200.079\n",
      "new best clicks: num clicks  99  scale  0.377477477477  base bid  [ 115.69422137]  cost  2276.031\n",
      "new best clicks: num clicks  101  scale  0.417117117117  base bid  [ 115.69422137]  cost  2575.303\n",
      "new best clicks: num clicks  103  scale  0.427027027027  base bid  [ 115.69422137]  cost  2649.281\n",
      "new best clicks: num clicks  105  scale  0.456756756757  base bid  [ 115.69422137]  cost  2876.9\n",
      "new best clicks: num clicks  106  scale  0.466666666667  base bid  [ 115.69422137]  cost  2959.691\n",
      "new best clicks: num clicks  107  scale  0.486486486486  base bid  [ 115.69422137]  cost  3118.434\n",
      "new best clicks: num clicks  109  scale  0.516216216216  base bid  [ 115.69422137]  cost  3405.259\n",
      "new best clicks: num clicks  110  scale  0.526126126126  base bid  [ 115.69422137]  cost  3507.852\n",
      "new best clicks: num clicks  112  scale  0.536036036036  base bid  [ 115.69422137]  cost  3611.735\n",
      "new best clicks: num clicks  113  scale  0.545945945946  base bid  [ 115.69422137]  cost  3721.613\n",
      "new best clicks: num clicks  116  scale  0.615315315315  base bid  [ 115.69422137]  cost  4639.064\n",
      "new best clicks: num clicks  117  scale  0.625225225225  base bid  [ 115.69422137]  cost  4791.865\n",
      "new best clicks: num clicks  118  scale  0.664864864865  base bid  [ 115.69422137]  cost  5509.806\n",
      "new best clicks: num clicks  119  scale  0.674774774775  base bid  [ 115.69422137]  cost  5685.814\n",
      "new best clicks: num clicks  121  scale  0.684684684685  base bid  [ 115.69422137]  cost  5874.621\n",
      "new best clicks: num clicks  123  scale  0.694594594595  base bid  [ 115.69422137]  cost  6040.254\n",
      "new best clicks: num clicks  126  scale  0.704504504505  base bid  [ 115.69422137]  cost  6241.109\n"
     ]
    },
    {
     "ename": "KeyboardInterrupt",
     "evalue": "",
     "output_type": "error",
     "traceback": [
      "\u001b[0;31m---------------------------------------------------------------------------\u001b[0m",
      "\u001b[0;31mKeyboardInterrupt\u001b[0m                         Traceback (most recent call last)",
      "\u001b[0;32m<ipython-input-28-8a4030d532b5>\u001b[0m in \u001b[0;36m<module>\u001b[0;34m()\u001b[0m\n\u001b[1;32m      8\u001b[0m     \u001b[0mbase_bid\u001b[0m \u001b[0;34m=\u001b[0m \u001b[0mlr\u001b[0m\u001b[0;34m.\u001b[0m\u001b[0mcoef_\u001b[0m \u001b[0;34m*\u001b[0m \u001b[0mscale\u001b[0m\u001b[0;34m\u001b[0m\u001b[0m\n\u001b[1;32m      9\u001b[0m     \u001b[0mxgb_bids\u001b[0m \u001b[0;34m=\u001b[0m \u001b[0mbase_bid\u001b[0m \u001b[0;34m*\u001b[0m \u001b[0mrf_valid_pctr\u001b[0m\u001b[0;34m[\u001b[0m\u001b[0;34m:\u001b[0m\u001b[0;34m,\u001b[0m\u001b[0;36m1\u001b[0m\u001b[0;34m]\u001b[0m\u001b[0;34m/\u001b[0m\u001b[0mavgCTR\u001b[0m\u001b[0;34m\u001b[0m\u001b[0m\n\u001b[0;32m---> 10\u001b[0;31m     \u001b[0mclicks\u001b[0m\u001b[0;34m,\u001b[0m \u001b[0mcost\u001b[0m\u001b[0;34m,\u001b[0m \u001b[0mavg_CTR\u001b[0m \u001b[0;34m=\u001b[0m \u001b[0mevaluate_metrics\u001b[0m\u001b[0;34m(\u001b[0m\u001b[0mxgb_bids\u001b[0m\u001b[0;34m,\u001b[0m \u001b[0mdisplay\u001b[0m\u001b[0;34m=\u001b[0m\u001b[0;32mFalse\u001b[0m\u001b[0;34m)\u001b[0m\u001b[0;34m\u001b[0m\u001b[0m\n\u001b[0m\u001b[1;32m     11\u001b[0m \u001b[0;31m#     print('clicks', clicks, scale, base_bid)\u001b[0m\u001b[0;34m\u001b[0m\u001b[0;34m\u001b[0m\u001b[0m\n\u001b[1;32m     12\u001b[0m     \u001b[0;32mif\u001b[0m \u001b[0mbest_clicks\u001b[0m \u001b[0;32mis\u001b[0m \u001b[0;32mNone\u001b[0m \u001b[0;32mor\u001b[0m \u001b[0;34m(\u001b[0m\u001b[0mclicks\u001b[0m \u001b[0;34m>\u001b[0m \u001b[0mbest_clicks\u001b[0m \u001b[0;32mand\u001b[0m \u001b[0mcost\u001b[0m \u001b[0;34m<\u001b[0m \u001b[0mbudget\u001b[0m\u001b[0;34m)\u001b[0m\u001b[0;34m:\u001b[0m\u001b[0;34m\u001b[0m\u001b[0m\n",
      "\u001b[0;32m<ipython-input-14-e68963064ac0>\u001b[0m in \u001b[0;36mevaluate_metrics\u001b[0;34m(bidprices, display)\u001b[0m\n\u001b[1;32m     16\u001b[0m \u001b[0;32mdef\u001b[0m \u001b[0mevaluate_metrics\u001b[0m\u001b[0;34m(\u001b[0m\u001b[0mbidprices\u001b[0m\u001b[0;34m,\u001b[0m \u001b[0mdisplay\u001b[0m\u001b[0;34m=\u001b[0m\u001b[0;32mTrue\u001b[0m\u001b[0;34m)\u001b[0m\u001b[0;34m:\u001b[0m\u001b[0;34m\u001b[0m\u001b[0m\n\u001b[1;32m     17\u001b[0m     \u001b[0mwin_items\u001b[0m \u001b[0;34m=\u001b[0m \u001b[0mvalidation\u001b[0m\u001b[0;34m[\u001b[0m\u001b[0;34m'payprice'\u001b[0m\u001b[0;34m]\u001b[0m \u001b[0;34m<\u001b[0m \u001b[0mbidprices\u001b[0m\u001b[0;34m\u001b[0m\u001b[0m\n\u001b[0;32m---> 18\u001b[0;31m     \u001b[0mimp\u001b[0m \u001b[0;34m=\u001b[0m \u001b[0mvalidation\u001b[0m\u001b[0;34m[\u001b[0m\u001b[0mwin_items\u001b[0m\u001b[0;34m]\u001b[0m\u001b[0;34m\u001b[0m\u001b[0m\n\u001b[0m\u001b[1;32m     19\u001b[0m     \u001b[0mclicks\u001b[0m \u001b[0;34m=\u001b[0m \u001b[0mimp\u001b[0m\u001b[0;34m[\u001b[0m\u001b[0;34m'click'\u001b[0m\u001b[0;34m]\u001b[0m\u001b[0;34m.\u001b[0m\u001b[0msum\u001b[0m\u001b[0;34m(\u001b[0m\u001b[0;34m)\u001b[0m\u001b[0;34m\u001b[0m\u001b[0m\n\u001b[1;32m     20\u001b[0m \u001b[0;34m\u001b[0m\u001b[0m\n",
      "\u001b[0;32m/usr/local/lib/python3.6/site-packages/pandas/core/frame.py\u001b[0m in \u001b[0;36m__getitem__\u001b[0;34m(self, key)\u001b[0m\n\u001b[1;32m   1956\u001b[0m         \u001b[0;32mif\u001b[0m \u001b[0misinstance\u001b[0m\u001b[0;34m(\u001b[0m\u001b[0mkey\u001b[0m\u001b[0;34m,\u001b[0m \u001b[0;34m(\u001b[0m\u001b[0mSeries\u001b[0m\u001b[0;34m,\u001b[0m \u001b[0mnp\u001b[0m\u001b[0;34m.\u001b[0m\u001b[0mndarray\u001b[0m\u001b[0;34m,\u001b[0m \u001b[0mIndex\u001b[0m\u001b[0;34m,\u001b[0m \u001b[0mlist\u001b[0m\u001b[0;34m)\u001b[0m\u001b[0;34m)\u001b[0m\u001b[0;34m:\u001b[0m\u001b[0;34m\u001b[0m\u001b[0m\n\u001b[1;32m   1957\u001b[0m             \u001b[0;31m# either boolean or fancy integer index\u001b[0m\u001b[0;34m\u001b[0m\u001b[0;34m\u001b[0m\u001b[0m\n\u001b[0;32m-> 1958\u001b[0;31m             \u001b[0;32mreturn\u001b[0m \u001b[0mself\u001b[0m\u001b[0;34m.\u001b[0m\u001b[0m_getitem_array\u001b[0m\u001b[0;34m(\u001b[0m\u001b[0mkey\u001b[0m\u001b[0;34m)\u001b[0m\u001b[0;34m\u001b[0m\u001b[0m\n\u001b[0m\u001b[1;32m   1959\u001b[0m         \u001b[0;32melif\u001b[0m \u001b[0misinstance\u001b[0m\u001b[0;34m(\u001b[0m\u001b[0mkey\u001b[0m\u001b[0;34m,\u001b[0m \u001b[0mDataFrame\u001b[0m\u001b[0;34m)\u001b[0m\u001b[0;34m:\u001b[0m\u001b[0;34m\u001b[0m\u001b[0m\n\u001b[1;32m   1960\u001b[0m             \u001b[0;32mreturn\u001b[0m \u001b[0mself\u001b[0m\u001b[0;34m.\u001b[0m\u001b[0m_getitem_frame\u001b[0m\u001b[0;34m(\u001b[0m\u001b[0mkey\u001b[0m\u001b[0;34m)\u001b[0m\u001b[0;34m\u001b[0m\u001b[0m\n",
      "\u001b[0;32m/usr/local/lib/python3.6/site-packages/pandas/core/frame.py\u001b[0m in \u001b[0;36m_getitem_array\u001b[0;34m(self, key)\u001b[0m\n\u001b[1;32m   1998\u001b[0m             \u001b[0mkey\u001b[0m \u001b[0;34m=\u001b[0m \u001b[0mcheck_bool_indexer\u001b[0m\u001b[0;34m(\u001b[0m\u001b[0mself\u001b[0m\u001b[0;34m.\u001b[0m\u001b[0mindex\u001b[0m\u001b[0;34m,\u001b[0m \u001b[0mkey\u001b[0m\u001b[0;34m)\u001b[0m\u001b[0;34m\u001b[0m\u001b[0m\n\u001b[1;32m   1999\u001b[0m             \u001b[0mindexer\u001b[0m \u001b[0;34m=\u001b[0m \u001b[0mkey\u001b[0m\u001b[0;34m.\u001b[0m\u001b[0mnonzero\u001b[0m\u001b[0;34m(\u001b[0m\u001b[0;34m)\u001b[0m\u001b[0;34m[\u001b[0m\u001b[0;36m0\u001b[0m\u001b[0;34m]\u001b[0m\u001b[0;34m\u001b[0m\u001b[0m\n\u001b[0;32m-> 2000\u001b[0;31m             \u001b[0;32mreturn\u001b[0m \u001b[0mself\u001b[0m\u001b[0;34m.\u001b[0m\u001b[0mtake\u001b[0m\u001b[0;34m(\u001b[0m\u001b[0mindexer\u001b[0m\u001b[0;34m,\u001b[0m \u001b[0maxis\u001b[0m\u001b[0;34m=\u001b[0m\u001b[0;36m0\u001b[0m\u001b[0;34m,\u001b[0m \u001b[0mconvert\u001b[0m\u001b[0;34m=\u001b[0m\u001b[0;32mFalse\u001b[0m\u001b[0;34m)\u001b[0m\u001b[0;34m\u001b[0m\u001b[0m\n\u001b[0m\u001b[1;32m   2001\u001b[0m         \u001b[0;32melse\u001b[0m\u001b[0;34m:\u001b[0m\u001b[0;34m\u001b[0m\u001b[0m\n\u001b[1;32m   2002\u001b[0m             \u001b[0mindexer\u001b[0m \u001b[0;34m=\u001b[0m \u001b[0mself\u001b[0m\u001b[0;34m.\u001b[0m\u001b[0mloc\u001b[0m\u001b[0;34m.\u001b[0m\u001b[0m_convert_to_indexer\u001b[0m\u001b[0;34m(\u001b[0m\u001b[0mkey\u001b[0m\u001b[0;34m,\u001b[0m \u001b[0maxis\u001b[0m\u001b[0;34m=\u001b[0m\u001b[0;36m1\u001b[0m\u001b[0;34m)\u001b[0m\u001b[0;34m\u001b[0m\u001b[0m\n",
      "\u001b[0;32m/usr/local/lib/python3.6/site-packages/pandas/core/generic.py\u001b[0m in \u001b[0;36mtake\u001b[0;34m(self, indices, axis, convert, is_copy, **kwargs)\u001b[0m\n\u001b[1;32m   1926\u001b[0m         new_data = self._data.take(indices,\n\u001b[1;32m   1927\u001b[0m                                    \u001b[0maxis\u001b[0m\u001b[0;34m=\u001b[0m\u001b[0mself\u001b[0m\u001b[0;34m.\u001b[0m\u001b[0m_get_block_manager_axis\u001b[0m\u001b[0;34m(\u001b[0m\u001b[0maxis\u001b[0m\u001b[0;34m)\u001b[0m\u001b[0;34m,\u001b[0m\u001b[0;34m\u001b[0m\u001b[0m\n\u001b[0;32m-> 1928\u001b[0;31m                                    convert=True, verify=True)\n\u001b[0m\u001b[1;32m   1929\u001b[0m         \u001b[0mresult\u001b[0m \u001b[0;34m=\u001b[0m \u001b[0mself\u001b[0m\u001b[0;34m.\u001b[0m\u001b[0m_constructor\u001b[0m\u001b[0;34m(\u001b[0m\u001b[0mnew_data\u001b[0m\u001b[0;34m)\u001b[0m\u001b[0;34m.\u001b[0m\u001b[0m__finalize__\u001b[0m\u001b[0;34m(\u001b[0m\u001b[0mself\u001b[0m\u001b[0;34m)\u001b[0m\u001b[0;34m\u001b[0m\u001b[0m\n\u001b[1;32m   1930\u001b[0m \u001b[0;34m\u001b[0m\u001b[0m\n",
      "\u001b[0;32m/usr/local/lib/python3.6/site-packages/pandas/core/internals.py\u001b[0m in \u001b[0;36mtake\u001b[0;34m(self, indexer, axis, verify, convert)\u001b[0m\n\u001b[1;32m   4009\u001b[0m         \u001b[0mnew_labels\u001b[0m \u001b[0;34m=\u001b[0m \u001b[0mself\u001b[0m\u001b[0;34m.\u001b[0m\u001b[0maxes\u001b[0m\u001b[0;34m[\u001b[0m\u001b[0maxis\u001b[0m\u001b[0;34m]\u001b[0m\u001b[0;34m.\u001b[0m\u001b[0mtake\u001b[0m\u001b[0;34m(\u001b[0m\u001b[0mindexer\u001b[0m\u001b[0;34m)\u001b[0m\u001b[0;34m\u001b[0m\u001b[0m\n\u001b[1;32m   4010\u001b[0m         return self.reindex_indexer(new_axis=new_labels, indexer=indexer,\n\u001b[0;32m-> 4011\u001b[0;31m                                     axis=axis, allow_dups=True)\n\u001b[0m\u001b[1;32m   4012\u001b[0m \u001b[0;34m\u001b[0m\u001b[0m\n\u001b[1;32m   4013\u001b[0m     \u001b[0;32mdef\u001b[0m \u001b[0mmerge\u001b[0m\u001b[0;34m(\u001b[0m\u001b[0mself\u001b[0m\u001b[0;34m,\u001b[0m \u001b[0mother\u001b[0m\u001b[0;34m,\u001b[0m \u001b[0mlsuffix\u001b[0m\u001b[0;34m=\u001b[0m\u001b[0;34m''\u001b[0m\u001b[0;34m,\u001b[0m \u001b[0mrsuffix\u001b[0m\u001b[0;34m=\u001b[0m\u001b[0;34m''\u001b[0m\u001b[0;34m)\u001b[0m\u001b[0;34m:\u001b[0m\u001b[0;34m\u001b[0m\u001b[0m\n",
      "\u001b[0;32m/usr/local/lib/python3.6/site-packages/pandas/core/internals.py\u001b[0m in \u001b[0;36mreindex_indexer\u001b[0;34m(self, new_axis, indexer, axis, fill_value, allow_dups, copy)\u001b[0m\n\u001b[1;32m   3895\u001b[0m             new_blocks = [blk.take_nd(indexer, axis=axis, fill_tuple=(\n\u001b[1;32m   3896\u001b[0m                 fill_value if fill_value is not None else blk.fill_value,))\n\u001b[0;32m-> 3897\u001b[0;31m                 for blk in self.blocks]\n\u001b[0m\u001b[1;32m   3898\u001b[0m \u001b[0;34m\u001b[0m\u001b[0m\n\u001b[1;32m   3899\u001b[0m         \u001b[0mnew_axes\u001b[0m \u001b[0;34m=\u001b[0m \u001b[0mlist\u001b[0m\u001b[0;34m(\u001b[0m\u001b[0mself\u001b[0m\u001b[0;34m.\u001b[0m\u001b[0maxes\u001b[0m\u001b[0;34m)\u001b[0m\u001b[0;34m\u001b[0m\u001b[0m\n",
      "\u001b[0;32m/usr/local/lib/python3.6/site-packages/pandas/core/internals.py\u001b[0m in \u001b[0;36m<listcomp>\u001b[0;34m(.0)\u001b[0m\n\u001b[1;32m   3895\u001b[0m             new_blocks = [blk.take_nd(indexer, axis=axis, fill_tuple=(\n\u001b[1;32m   3896\u001b[0m                 fill_value if fill_value is not None else blk.fill_value,))\n\u001b[0;32m-> 3897\u001b[0;31m                 for blk in self.blocks]\n\u001b[0m\u001b[1;32m   3898\u001b[0m \u001b[0;34m\u001b[0m\u001b[0m\n\u001b[1;32m   3899\u001b[0m         \u001b[0mnew_axes\u001b[0m \u001b[0;34m=\u001b[0m \u001b[0mlist\u001b[0m\u001b[0;34m(\u001b[0m\u001b[0mself\u001b[0m\u001b[0;34m.\u001b[0m\u001b[0maxes\u001b[0m\u001b[0;34m)\u001b[0m\u001b[0;34m\u001b[0m\u001b[0m\n",
      "\u001b[0;32m/usr/local/lib/python3.6/site-packages/pandas/core/internals.py\u001b[0m in \u001b[0;36mtake_nd\u001b[0;34m(self, indexer, axis, new_mgr_locs, fill_tuple)\u001b[0m\n\u001b[1;32m   1044\u001b[0m             \u001b[0mfill_value\u001b[0m \u001b[0;34m=\u001b[0m \u001b[0mfill_tuple\u001b[0m\u001b[0;34m[\u001b[0m\u001b[0;36m0\u001b[0m\u001b[0;34m]\u001b[0m\u001b[0;34m\u001b[0m\u001b[0m\n\u001b[1;32m   1045\u001b[0m             new_values = algos.take_nd(values, indexer, axis=axis,\n\u001b[0;32m-> 1046\u001b[0;31m                                        allow_fill=True, fill_value=fill_value)\n\u001b[0m\u001b[1;32m   1047\u001b[0m \u001b[0;34m\u001b[0m\u001b[0m\n\u001b[1;32m   1048\u001b[0m         \u001b[0;32mif\u001b[0m \u001b[0mnew_mgr_locs\u001b[0m \u001b[0;32mis\u001b[0m \u001b[0;32mNone\u001b[0m\u001b[0;34m:\u001b[0m\u001b[0;34m\u001b[0m\u001b[0m\n",
      "\u001b[0;32m/usr/local/lib/python3.6/site-packages/pandas/core/algorithms.py\u001b[0m in \u001b[0;36mtake_nd\u001b[0;34m(arr, indexer, axis, out, fill_value, mask_info, allow_fill)\u001b[0m\n\u001b[1;32m   1469\u001b[0m     func = _get_take_nd_function(arr.ndim, arr.dtype, out.dtype, axis=axis,\n\u001b[1;32m   1470\u001b[0m                                  mask_info=mask_info)\n\u001b[0;32m-> 1471\u001b[0;31m     \u001b[0mfunc\u001b[0m\u001b[0;34m(\u001b[0m\u001b[0marr\u001b[0m\u001b[0;34m,\u001b[0m \u001b[0mindexer\u001b[0m\u001b[0;34m,\u001b[0m \u001b[0mout\u001b[0m\u001b[0;34m,\u001b[0m \u001b[0mfill_value\u001b[0m\u001b[0;34m)\u001b[0m\u001b[0;34m\u001b[0m\u001b[0m\n\u001b[0m\u001b[1;32m   1472\u001b[0m \u001b[0;34m\u001b[0m\u001b[0m\n\u001b[1;32m   1473\u001b[0m     \u001b[0;32mif\u001b[0m \u001b[0mflip_order\u001b[0m\u001b[0;34m:\u001b[0m\u001b[0;34m\u001b[0m\u001b[0m\n",
      "\u001b[0;31mKeyboardInterrupt\u001b[0m: "
     ]
    }
   ],
   "source": [
    "# rf_pctr\n",
    "# %%time\n",
    "budget = 6250\n",
    "best_scale = None\n",
    "best_clicks = None\n",
    "\n",
    "for scale in np.linspace(0.1,10.,1000):\n",
    "    base_bid = lr.coef_ * scale\n",
    "    xgb_bids = base_bid * rf_valid_pctr[:,1]/avgCTR\n",
    "    clicks, cost, avg_CTR = evaluate_metrics(xgb_bids, display=False)\n",
    "#     print('clicks', clicks, scale, base_bid)\n",
    "    if best_clicks is None or (clicks > best_clicks and cost < budget):\n",
    "        best_clicks = clicks\n",
    "        best_scale = scale\n",
    "        print('new best clicks: num clicks ', best_clicks, ' scale ', best_scale, ' base bid ', lr.coef_, ' cost ', cost)\n"
   ]
  },
  {
   "cell_type": "code",
   "execution_count": 29,
   "metadata": {},
   "outputs": [
    {
     "name": "stdout",
     "output_type": "stream",
     "text": [
      "\\begin{tabular}{lrr}\n",
      "\\toprule\n",
      "{} &    AUC &   RMSE \\\\\n",
      "Advertiser &        &        \\\\\n",
      "\\midrule\n",
      "1458       &  0.866 &  0.028 \\\\\n",
      "3476       &  0.717 &  0.017 \\\\\n",
      "3358       &  0.806 &  0.026 \\\\\n",
      "3427       &  0.824 &  0.027 \\\\\n",
      "3386       &  0.706 &  0.022 \\\\\n",
      "2261       &  0.869 &  0.015 \\\\\n",
      "2821       &  0.571 &  0.029 \\\\\n",
      "2259       &  0.258 &  0.011 \\\\\n",
      "2997       &  0.568 &  0.065 \\\\\n",
      "All        &  0.796 &  0.026 \\\\\n",
      "Train      &  0.925 &  0.028 \\\\\n",
      "\\bottomrule\n",
      "\\end{tabular}\n",
      "\n"
     ]
    }
   ],
   "source": [
    "print(results.round(3).to_latex())"
   ]
  },
  {
   "cell_type": "code",
   "execution_count": 320,
   "metadata": {},
   "outputs": [
    {
     "name": "stderr",
     "output_type": "stream",
     "text": [
      "/usr/local/lib/python3.6/site-packages/pandas/core/indexing.py:517: SettingWithCopyWarning: \n",
      "A value is trying to be set on a copy of a slice from a DataFrame.\n",
      "Try using .loc[row_indexer,col_indexer] = value instead\n",
      "\n",
      "See the caveats in the documentation: http://pandas.pydata.org/pandas-docs/stable/indexing.html#indexing-view-versus-copy\n",
      "  self.obj[item] = s\n"
     ]
    },
    {
     "name": "stdout",
     "output_type": "stream",
     "text": [
      "CPU times: user 13.1 s, sys: 10.6 s, total: 23.6 s\n",
      "Wall time: 23.7 s\n"
     ]
    }
   ],
   "source": [
    "%%time\n",
    "pctr_test_x = preprocess_lg_pctr(test)\n",
    "xgb_test_pctr = m.predict_proba(pctr_test_x)\n",
    "base_bid = 66.8 * 1.78259319\n",
    "xgb_bids = base_bid * xgb_test_pctr[:,1]/avgCTR\n",
    "# evaluate_metrics(xgb_bids)\n",
    "xgb_bids.shape"
   ]
  },
  {
   "cell_type": "code",
   "execution_count": null,
   "metadata": {
    "collapsed": true
   },
   "outputs": [],
   "source": [
    "# csv_df = pd.DataFrame()\n",
    "# csv_df['bidid'] = test['bidid']\n",
    "# csv_df['bidprice'] = xgb_bids\n",
    "# csv_df.to_csv('testing_bidding_price.csv')"
   ]
  },
  {
   "cell_type": "code",
   "execution_count": null,
   "metadata": {
    "collapsed": true
   },
   "outputs": [],
   "source": [
    "#######################################################################################################################\n"
   ]
  },
  {
   "cell_type": "code",
   "execution_count": 23,
   "metadata": {},
   "outputs": [
    {
     "data": {
      "text/plain": [
       "(303375,)"
      ]
     },
     "execution_count": 23,
     "metadata": {},
     "output_type": "execute_result"
    }
   ],
   "source": [
    "# test['bidid'].shape"
   ]
  },
  {
   "cell_type": "code",
   "execution_count": 1,
   "metadata": {
    "collapsed": true
   },
   "outputs": [],
   "source": [
    "# import xgboost as xgb\n",
    "# m = xgb.XGBClassifier(max_depth=4, n_estimators=100, n_jobs=2)\n",
    "# pctr_train_y = train['payprice']\n",
    "# pctr_train_x = preprocess_lg_pctr(train)\n",
    "# m.fit(pctr_train_x, pctr_train_y)\n",
    "# xgb_pctr = m.predict(pctr_train_x)"
   ]
  },
  {
   "cell_type": "code",
   "execution_count": null,
   "metadata": {
    "collapsed": true
   },
   "outputs": [],
   "source": [
    "# xgb_pctr.head()"
   ]
  },
  {
   "cell_type": "code",
   "execution_count": 321,
   "metadata": {
    "collapsed": true
   },
   "outputs": [],
   "source": [
    "csv_df = pd.DataFrame()\n",
    "csv_df['bidid'] = test['bidid']\n",
    "csv_df['bidprice'] = xgb_bids\n",
    "csv_df.to_csv('testing_bidding_price_xglr0402.csv')"
   ]
  },
  {
   "cell_type": "code",
   "execution_count": 30,
   "metadata": {
    "collapsed": true
   },
   "outputs": [],
   "source": [
    "# file = pd.read_csv('testing_bidding_price_xglr.csv',  index_col=0)"
   ]
  },
  {
   "cell_type": "code",
   "execution_count": 31,
   "metadata": {},
   "outputs": [
    {
     "data": {
      "text/html": [
       "<div>\n",
       "<style>\n",
       "    .dataframe thead tr:only-child th {\n",
       "        text-align: right;\n",
       "    }\n",
       "\n",
       "    .dataframe thead th {\n",
       "        text-align: left;\n",
       "    }\n",
       "\n",
       "    .dataframe tbody tr th {\n",
       "        vertical-align: top;\n",
       "    }\n",
       "</style>\n",
       "<table border=\"1\" class=\"dataframe\">\n",
       "  <thead>\n",
       "    <tr style=\"text-align: right;\">\n",
       "      <th></th>\n",
       "      <th>bidid</th>\n",
       "      <th>bidprice</th>\n",
       "    </tr>\n",
       "  </thead>\n",
       "  <tbody>\n",
       "    <tr>\n",
       "      <th>0</th>\n",
       "      <td>366c563de7d90feb9d4dab53e795a93fb3157387</td>\n",
       "      <td>41.693754</td>\n",
       "    </tr>\n",
       "    <tr>\n",
       "      <th>1</th>\n",
       "      <td>29167d4caa719788b5a342dbaa25151d53121f80</td>\n",
       "      <td>307.872479</td>\n",
       "    </tr>\n",
       "    <tr>\n",
       "      <th>2</th>\n",
       "      <td>ff8bc3f4d44a3ea60c5f3a3a8fbe7cd98fb2966e</td>\n",
       "      <td>78.282445</td>\n",
       "    </tr>\n",
       "    <tr>\n",
       "      <th>3</th>\n",
       "      <td>844c2da00d45315f20b748ec131c26ee99a7cbc7</td>\n",
       "      <td>60.343378</td>\n",
       "    </tr>\n",
       "    <tr>\n",
       "      <th>4</th>\n",
       "      <td>c6017f0ad0c44d7d0c9b62583ea863f28941c0ca</td>\n",
       "      <td>64.381043</td>\n",
       "    </tr>\n",
       "  </tbody>\n",
       "</table>\n",
       "</div>"
      ],
      "text/plain": [
       "                                      bidid    bidprice\n",
       "0  366c563de7d90feb9d4dab53e795a93fb3157387   41.693754\n",
       "1  29167d4caa719788b5a342dbaa25151d53121f80  307.872479\n",
       "2  ff8bc3f4d44a3ea60c5f3a3a8fbe7cd98fb2966e   78.282445\n",
       "3  844c2da00d45315f20b748ec131c26ee99a7cbc7   60.343378\n",
       "4  c6017f0ad0c44d7d0c9b62583ea863f28941c0ca   64.381043"
      ]
     },
     "execution_count": 31,
     "metadata": {},
     "output_type": "execute_result"
    }
   ],
   "source": [
    "# file.head()"
   ]
  },
  {
   "cell_type": "code",
   "execution_count": 322,
   "metadata": {},
   "outputs": [
    {
     "name": "stdout",
     "output_type": "stream",
     "text": [
      "{\"ranking\": 10, \"group\": \"20\", \"result\": {\"impressions\": 143694, \"cost\": 6249.998000002514, \"clicks\": 163, \"ctr\": 0.0011343549487104541, \"cpc\": 38.343546012285366}, \"daily submission limit\": 3, \"today tried times\": 3, \"best result\": {\"impressions\": 121991, \"cost\": 6085.894000001979, \"clicks\": 175, \"ctr\": 0.0014345320556434491, \"cpc\": 34.776537142868456}}\r\n"
     ]
    }
   ],
   "source": [
    "# PSL16u68d1n4\n",
    "# Linear regression(xgboost for pctr) bidding strategy\n",
    "\n",
    "\n",
    "!curl http://deepmining.cs.ucl.ac.uk/api/upload/wining_criteria_1/PSL16u68d1n4 -X Post -F 'file=@./testing_bidding_price_xglr0402.csv'\n"
   ]
  },
  {
   "cell_type": "code",
   "execution_count": null,
   "metadata": {
    "collapsed": true
   },
   "outputs": [],
   "source": []
  },
  {
   "cell_type": "code",
   "execution_count": null,
   "metadata": {
    "collapsed": true
   },
   "outputs": [],
   "source": []
  },
  {
   "cell_type": "code",
   "execution_count": 40,
   "metadata": {
    "collapsed": true
   },
   "outputs": [],
   "source": [
    "#################################################Your Best Bidding Strategy############################################"
   ]
  },
  {
   "cell_type": "code",
   "execution_count": 98,
   "metadata": {
    "collapsed": true
   },
   "outputs": [],
   "source": [
    "csv_df = pd.DataFrame()\n",
    "csv_df['bidid'] = test['bidid']\n",
    "csv_df['bidprice'] = logistic_bids\n",
    "csv_df.to_csv('testing_bidding_price.csv')"
   ]
  },
  {
   "cell_type": "code",
   "execution_count": 99,
   "metadata": {},
   "outputs": [
    {
     "name": "stdout",
     "output_type": "stream",
     "text": [
      "{\"ranking\": 4, \"group\": \"20\", \"result\": {\"impressions\": 121286, \"cost\": 6249.999000001894, \"clicks\": 90, \"ctr\": 0.0007420477219134937, \"cpc\": 69.44443333335438}, \"daily submission limit\": 3, \"today tried times\": 2, \"best result\": {\"impressions\": 121286, \"cost\": 6249.999000001894, \"clicks\": 90, \"ctr\": 0.0007420477219134937, \"cpc\": 69.44443333335438}}\r\n"
     ]
    }
   ],
   "source": [
    "# PSL16u68d1n4\n",
    "# Linear regression(logistic regression for pctr) bidding strategy\n",
    "# !curl http://deepmining.cs.ucl.ac.uk/api/upload/wining_criteria_1/PSL16u68d1n4 -X Post -F 'file=@./testing_bidding_price.csv'\n"
   ]
  },
  {
   "cell_type": "code",
   "execution_count": 154,
   "metadata": {
    "collapsed": true
   },
   "outputs": [],
   "source": [
    "# file = pd.read_csv('test_bidprice_20.csv',  index_col=0)\n",
    "# file.head()"
   ]
  },
  {
   "cell_type": "code",
   "execution_count": null,
   "metadata": {
    "collapsed": true
   },
   "outputs": [],
   "source": []
  }
 ],
 "metadata": {
  "kernelspec": {
   "display_name": "Python 3",
   "language": "python",
   "name": "python3"
  },
  "language_info": {
   "codemirror_mode": {
    "name": "ipython",
    "version": 3
   },
   "file_extension": ".py",
   "mimetype": "text/x-python",
   "name": "python",
   "nbconvert_exporter": "python",
   "pygments_lexer": "ipython3",
   "version": "3.6.1"
  }
 },
 "nbformat": 4,
 "nbformat_minor": 2
}
