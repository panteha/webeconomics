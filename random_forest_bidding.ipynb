{
 "cells": [
  {
   "cell_type": "code",
   "execution_count": 1,
   "metadata": {},
   "outputs": [
    {
     "name": "stderr",
     "output_type": "stream",
     "text": [
      "/usr/local/lib/python3.6/site-packages/matplotlib/__init__.py:1085: UserWarning: Duplicate key in file \"/Users/Pani/.matplotlib/matplotlibrc\", line #2\n",
      "  (fname, cnt))\n"
     ]
    },
    {
     "name": "stdout",
     "output_type": "stream",
     "text": [
      "height has been deprecated.\n",
      "\n"
     ]
    }
   ],
   "source": [
    "import pandas as pd\n",
    "import numpy as np\n",
    "from random import randrange, uniform\n",
    "from sklearn import linear_model\n",
    "\n",
    "pd.set_option('display.height', 1000)\n",
    "pd.set_option('display.max_rows', 500)\n",
    "pd.set_option('display.max_columns', 500)\n",
    "pd.set_option('display.width', 1000)"
   ]
  },
  {
   "cell_type": "code",
   "execution_count": 3,
   "metadata": {
    "collapsed": true
   },
   "outputs": [],
   "source": [
    "\n",
    "train = pd.read_csv('we_data/train.csv')\n",
    "test = pd.read_csv('we_data/test.csv')\n",
    "validation = pd.read_csv('we_data/validation.csv')"
   ]
  },
  {
   "cell_type": "code",
   "execution_count": 14,
   "metadata": {
    "collapsed": true
   },
   "outputs": [],
   "source": [
    "def evaluate_metrics(bidprices, display=True):\n",
    "    win_items = validation['payprice'] < bidprices\n",
    "    imp = validation[win_items]\n",
    "    clicks = imp['click'].sum()\n",
    "\n",
    "    cost = imp['payprice'].sum() / 1000\n",
    "\n",
    "    avg_CTR = (imp['click'].sum() / imp['click'].count()) * 100\n",
    "#     Check for CTR\n",
    "\n",
    "    avg_CPC = cost / imp['click'].sum()\n",
    " \n",
    "    CPM = (cost) / (imp['click'].count()) * 1000\n",
    "    if display:\n",
    "        print('number of clicks', clicks)\n",
    "        print('total cost', cost)\n",
    "        print('Click through rate ', avg_CTR)\n",
    "        print('Average CPC', avg_CPC)\n",
    "        print('Cost per mille', CPM)\n",
    "    return clicks, cost, avg_CTR"
   ]
  },
  {
   "cell_type": "code",
   "execution_count": 4,
   "metadata": {},
   "outputs": [
    {
     "name": "stdout",
     "output_type": "stream",
     "text": [
      "CPU times: user 1min 51s, sys: 6.53 s, total: 1min 57s\n",
      "Wall time: 1min 58s\n"
     ]
    }
   ],
   "source": [
    "%%time\n",
    "def preprocess(data):\n",
    "    result = data['useragent'].str.split('_')\n",
    "    data['os'] = np.array(result.tolist())[:,0]\n",
    "    data['browser'] = np.array(result.tolist())[:,1]\n",
    "    data['slotsize'] = data['slotwidth'] * data['slotheight']\n",
    "    result = data['usertag'].str.split(',')\n",
    "    unique_usertags = {elem\n",
    "                       for elems in result.tolist()\n",
    "                       for elem in elems}\n",
    "    for usertag in unique_usertags:\n",
    "        data['usertag_'+usertag] = result.apply(lambda x: usertag in x).astype(int)\n",
    "\n",
    "preprocess(validation)\n",
    "preprocess(test)\n",
    "preprocess(train)\n",
    "# train_sample.shape[0]"
   ]
  },
  {
   "cell_type": "code",
   "execution_count": 5,
   "metadata": {},
   "outputs": [
    {
     "name": "stdout",
     "output_type": "stream",
     "text": [
      "(243098, 97)\n",
      "CPU times: user 12.5 s, sys: 8.75 s, total: 21.2 s\n",
      "Wall time: 22 s\n"
     ]
    }
   ],
   "source": [
    "%%time\n",
    "train_sample = train.sample(n=int(0.1 * (train.shape[0])))\n",
    "preprocess(train_sample)\n",
    "print(train_sample.shape)"
   ]
  },
  {
   "cell_type": "code",
   "execution_count": 277,
   "metadata": {
    "collapsed": true
   },
   "outputs": [],
   "source": [
    "import gc\n",
    "\n",
    "# algo 2\n",
    "def freq_ctr_encode(data, column, value=False, one_hot=True):\n",
    "    ctr_data = train.groupby(column)['click'].mean()\n",
    "    ctr_data.name = 'ctr'\n",
    "    freq_data = train.groupby(column)['click'].count()\n",
    "    freq_data.name = 'freq'\n",
    "    feat_data = pd.concat([ctr_data, freq_data, ecpc_data], axis=1)\n",
    "    result = data.join(feat_data, on=column, lsuffix='_' + column)\n",
    "    result.rename(columns = {'ctr': 'ctr_'+column, 'freq': 'freq_'+column}, inplace=True)\n",
    "    result_cols = ['ctr_'+column, 'freq_'+column]\n",
    "    if not value:\n",
    "        return result[result_cols]\n",
    "    if one_hot:\n",
    "        return pd.concat([result[result_cols], \n",
    "                          one_hot_encode(data, column)\n",
    "                         ], axis=1)\n",
    "    return result[result_cols + [column]]\n",
    "\n",
    "def freq_ctr_encode_tag(data, tag):\n",
    "    mask = train[tag] == 1\n",
    "    tag_data = train[mask]\n",
    "    ctr_data = tag_data['click'].mean()\n",
    "    result = pd.DataFrame({'ctr_'+tag: data[tag]})\n",
    "    result.loc[mask, 'ctr_'+tag] = ctr_data\n",
    "    return result\n",
    "\n",
    "def preprocess_super_pctr(data):\n",
    "    gc.collect()\n",
    "    pctr_x = data[['weekday', 'hour', 'adexchange', 'advertiser','slotwidth', 'slotheight', 'slotprice']]\n",
    "    pctr_x.loc[:,'adexchange'] = pd.to_numeric(pctr_x['adexchange'], errors='coerce')\n",
    "    usertag_df = pd.concat([data[column]\n",
    "                            for column in data.columns\n",
    "                            if column.startswith('usertag_')],\n",
    "                          axis=1)\n",
    "    usertag_df = ensure_columns(usertag_df, train_usertag_columns)\n",
    "\n",
    "    pctr_x = pd.concat([pctr_x] + [freq_ctr_encode_tag(usertag_df, column)\n",
    "                                   for column in usertag_df.columns], axis=1)\n",
    "\n",
    "    pctr_x = pd.concat([pctr_x, freq_ctr_encode(data, 'weekday')], axis=1)\n",
    "    pctr_x = pd.concat([pctr_x, freq_ctr_encode(data, 'hour')], axis=1)\n",
    "    pctr_x = pd.concat([pctr_x, freq_ctr_encode(data, 'advertiser')], axis=1)\n",
    "    pctr_x = pd.concat([pctr_x, freq_ctr_encode(data, 'adexchange')], axis=1)\n",
    "\n",
    "    pctr_x = pd.concat([pctr_x, freq_ctr_encode(data, 'slotvisibility')], axis=1)\n",
    "    pctr_x = pd.concat([pctr_x, freq_ctr_encode(data, 'slotformat')], axis=1)\n",
    "    pctr_x = pd.concat([pctr_x, freq_ctr_encode(data, 'city')], axis=1)\n",
    "    pctr_x = pd.concat([pctr_x, freq_ctr_encode(data, 'region')], axis=1)\n",
    "    pctr_x = pd.concat([pctr_x, freq_ctr_encode(data, 'os')], axis=1)\n",
    "    pctr_x = pd.concat([pctr_x, freq_ctr_encode(data, 'browser')], axis=1)\n",
    "    pctr_x = pd.concat([pctr_x, freq_ctr_encode(data, 'slotsize')], axis=1)\n",
    "\n",
    "    pctr_x.fillna(0, inplace=True)\n",
    "    return pctr_x\n",
    "\n",
    "# gc.collect()\n",
    "preprocess_pctr = preprocess_super_pctr"
   ]
  },
  {
   "cell_type": "code",
   "execution_count": 8,
   "metadata": {},
   "outputs": [
    {
     "name": "stderr",
     "output_type": "stream",
     "text": [
      "/usr/local/lib/python3.6/site-packages/pandas/core/indexing.py:517: SettingWithCopyWarning: \n",
      "A value is trying to be set on a copy of a slice from a DataFrame.\n",
      "Try using .loc[row_indexer,col_indexer] = value instead\n",
      "\n",
      "See the caveats in the documentation: http://pandas.pydata.org/pandas-docs/stable/indexing.html#indexing-view-versus-copy\n",
      "  self.obj[item] = s\n"
     ]
    },
    {
     "name": "stdout",
     "output_type": "stream",
     "text": [
      "(243098, 541)\n",
      "CPU times: user 4.75 s, sys: 4.3 s, total: 9.05 s\n",
      "Wall time: 9.61 s\n"
     ]
    }
   ],
   "source": [
    "%%time\n",
    "\n",
    "pctr_train_x = preprocess_pctr(train_sample)\n",
    "assert(np.all(np.isfinite(pctr_train_x)))\n",
    "print(pctr_train_x.shape)\n",
    "pctr_train_x.head()"
   ]
  },
  {
   "cell_type": "code",
   "execution_count": 23,
   "metadata": {},
   "outputs": [
    {
     "name": "stdout",
     "output_type": "stream",
     "text": [
      "CPU times: user 20 s, sys: 2.7 s, total: 22.7 s\n",
      "Wall time: 23.1 s\n"
     ]
    }
   ],
   "source": [
    "%%time\n",
    "from sklearn.ensemble import RandomForestClassifier\n",
    "clf = RandomForestClassifier(n_estimators=100, max_depth=5, random_state=0)\n",
    "pctr_train_y = train_sample['click']\n",
    "clf.fit(pctr_train_x, pctr_train_y)\n",
    "rf_pctr = clf.predict_proba(pctr_train_x)"
   ]
  },
  {
   "cell_type": "code",
   "execution_count": 24,
   "metadata": {},
   "outputs": [
    {
     "name": "stdout",
     "output_type": "stream",
     "text": [
      "(243098, 1)\n",
      "(243098,)\n",
      "CPU times: user 13.6 ms, sys: 16.1 ms, total: 29.7 ms\n",
      "Wall time: 26.6 ms\n"
     ]
    }
   ],
   "source": [
    "%%time\n",
    "avgCTR = train_sample['click'].mean()\n",
    "lr = linear_model.LinearRegression(fit_intercept=False)\n",
    "lr_feat_x = rf_pctr[:,1]/avgCTR\n",
    "lr_feat_x = lr_feat_x.reshape(-1, 1)\n",
    "print (lr_feat_x.shape)\n",
    "print(train_sample['bidprice'].shape)\n",
    "lr.fit(lr_feat_x, train_sample['bidprice'])"
   ]
  },
  {
   "cell_type": "code",
   "execution_count": 11,
   "metadata": {},
   "outputs": [
    {
     "name": "stderr",
     "output_type": "stream",
     "text": [
      "/usr/local/lib/python3.6/site-packages/pandas/core/indexing.py:517: SettingWithCopyWarning: \n",
      "A value is trying to be set on a copy of a slice from a DataFrame.\n",
      "Try using .loc[row_indexer,col_indexer] = value instead\n",
      "\n",
      "See the caveats in the documentation: http://pandas.pydata.org/pandas-docs/stable/indexing.html#indexing-view-versus-copy\n",
      "  self.obj[item] = s\n"
     ]
    },
    {
     "name": "stdout",
     "output_type": "stream",
     "text": [
      "CPU times: user 5.68 s, sys: 5.42 s, total: 11.1 s\n",
      "Wall time: 11.3 s\n"
     ]
    }
   ],
   "source": [
    "%%time\n",
    "pctr_valid_x = preprocess_pctr(validation)"
   ]
  },
  {
   "cell_type": "code",
   "execution_count": 25,
   "metadata": {},
   "outputs": [
    {
     "name": "stdout",
     "output_type": "stream",
     "text": [
      "CPU times: user 3.2 s, sys: 2.12 s, total: 5.32 s\n",
      "Wall time: 5.71 s\n"
     ]
    }
   ],
   "source": [
    "%%time\n",
    "rf_valid_pctr = clf.predict_proba(pctr_valid_x)"
   ]
  },
  {
   "cell_type": "code",
   "execution_count": 26,
   "metadata": {},
   "outputs": [
    {
     "data": {
      "text/html": [
       "<div>\n",
       "<style>\n",
       "    .dataframe thead tr:only-child th {\n",
       "        text-align: right;\n",
       "    }\n",
       "\n",
       "    .dataframe thead th {\n",
       "        text-align: left;\n",
       "    }\n",
       "\n",
       "    .dataframe tbody tr th {\n",
       "        vertical-align: top;\n",
       "    }\n",
       "</style>\n",
       "<table border=\"1\" class=\"dataframe\">\n",
       "  <thead>\n",
       "    <tr style=\"text-align: right;\">\n",
       "      <th></th>\n",
       "      <th>AUC</th>\n",
       "      <th>RMSE</th>\n",
       "    </tr>\n",
       "    <tr>\n",
       "      <th>Advertiser</th>\n",
       "      <th></th>\n",
       "      <th></th>\n",
       "    </tr>\n",
       "  </thead>\n",
       "  <tbody>\n",
       "    <tr>\n",
       "      <th>1458</th>\n",
       "      <td>0.865784</td>\n",
       "      <td>0.027866</td>\n",
       "    </tr>\n",
       "    <tr>\n",
       "      <th>3476</th>\n",
       "      <td>0.716689</td>\n",
       "      <td>0.016828</td>\n",
       "    </tr>\n",
       "    <tr>\n",
       "      <th>3358</th>\n",
       "      <td>0.805764</td>\n",
       "      <td>0.026325</td>\n",
       "    </tr>\n",
       "    <tr>\n",
       "      <th>3427</th>\n",
       "      <td>0.824149</td>\n",
       "      <td>0.027123</td>\n",
       "    </tr>\n",
       "    <tr>\n",
       "      <th>3386</th>\n",
       "      <td>0.705552</td>\n",
       "      <td>0.022183</td>\n",
       "    </tr>\n",
       "    <tr>\n",
       "      <th>2261</th>\n",
       "      <td>0.868630</td>\n",
       "      <td>0.014887</td>\n",
       "    </tr>\n",
       "    <tr>\n",
       "      <th>2821</th>\n",
       "      <td>0.571004</td>\n",
       "      <td>0.029450</td>\n",
       "    </tr>\n",
       "    <tr>\n",
       "      <th>2259</th>\n",
       "      <td>0.258063</td>\n",
       "      <td>0.010963</td>\n",
       "    </tr>\n",
       "    <tr>\n",
       "      <th>2997</th>\n",
       "      <td>0.567545</td>\n",
       "      <td>0.064771</td>\n",
       "    </tr>\n",
       "    <tr>\n",
       "      <th>All</th>\n",
       "      <td>0.795514</td>\n",
       "      <td>0.025714</td>\n",
       "    </tr>\n",
       "    <tr>\n",
       "      <th>Train</th>\n",
       "      <td>0.924515</td>\n",
       "      <td>0.027852</td>\n",
       "    </tr>\n",
       "  </tbody>\n",
       "</table>\n",
       "</div>"
      ],
      "text/plain": [
       "                 AUC      RMSE\n",
       "Advertiser                    \n",
       "1458        0.865784  0.027866\n",
       "3476        0.716689  0.016828\n",
       "3358        0.805764  0.026325\n",
       "3427        0.824149  0.027123\n",
       "3386        0.705552  0.022183\n",
       "2261        0.868630  0.014887\n",
       "2821        0.571004  0.029450\n",
       "2259        0.258063  0.010963\n",
       "2997        0.567545  0.064771\n",
       "All         0.795514  0.025714\n",
       "Train       0.924515  0.027852"
      ]
     },
     "execution_count": 26,
     "metadata": {},
     "output_type": "execute_result"
    }
   ],
   "source": [
    "\n",
    "from sklearn import metrics\n",
    "import math\n",
    "\n",
    "results = pd.DataFrame(columns = ['AUC', 'RMSE'])\n",
    "results.index.name = 'Advertiser'\n",
    "\n",
    "for advertiser in validation['advertiser'].unique():\n",
    "    mask = validation['advertiser'] == advertiser\n",
    "    adv_pctr_valid_x = pctr_valid_x[mask]\n",
    "    adv_clicks = validation[mask]['click']\n",
    "    adv_rf_valid_pctr = clf.predict_proba(adv_pctr_valid_x)[:,1]\n",
    "\n",
    "    adv_auc = metrics.roc_auc_score(adv_clicks, adv_rf_valid_pctr)\n",
    "    adv_rmse = math.sqrt(metrics.mean_squared_error(adv_clicks, adv_rf_valid_pctr))\n",
    "\n",
    "    results.loc[advertiser] = [adv_auc, adv_rmse]\n",
    "\n",
    "    \n",
    "all_auc = metrics.roc_auc_score(validation['click'], rf_valid_pctr[:,1])\n",
    "all_rmse = math.sqrt(metrics.mean_squared_error(validation['click'], rf_valid_pctr[:,1]))\n",
    "\n",
    "results.loc['All'] = [all_auc, all_rmse]\n",
    "\n",
    "train_auc = metrics.roc_auc_score(train_sample['click'], rf_pctr[:,1])\n",
    "train_rmse = math.sqrt(metrics.mean_squared_error(train_sample['click'], rf_pctr[:,1]))\n",
    "\n",
    "results.loc['Train'] = [train_auc, train_rmse]\n",
    "\n",
    "results"
   ]
  },
  {
   "cell_type": "code",
   "execution_count": 28,
   "metadata": {},
   "outputs": [
    {
     "name": "stdout",
     "output_type": "stream",
     "text": [
      "new best clicks: num clicks  45  scale  0.1  base bid  [ 115.69422137]  cost  262.784\n",
      "new best clicks: num clicks  46  scale  0.10990990991  base bid  [ 115.69422137]  cost  305.048\n",
      "new best clicks: num clicks  47  scale  0.11981981982  base bid  [ 115.69422137]  cost  350.335\n",
      "new best clicks: num clicks  50  scale  0.12972972973  base bid  [ 115.69422137]  cost  393.855\n",
      "new best clicks: num clicks  51  scale  0.13963963964  base bid  [ 115.69422137]  cost  440.383\n",
      "new best clicks: num clicks  53  scale  0.14954954955  base bid  [ 115.69422137]  cost  491.256\n",
      "new best clicks: num clicks  55  scale  0.159459459459  base bid  [ 115.69422137]  cost  537.975\n",
      "new best clicks: num clicks  59  scale  0.169369369369  base bid  [ 115.69422137]  cost  586.685\n",
      "new best clicks: num clicks  61  scale  0.179279279279  base bid  [ 115.69422137]  cost  642.197\n",
      "new best clicks: num clicks  63  scale  0.189189189189  base bid  [ 115.69422137]  cost  695.589\n",
      "new best clicks: num clicks  70  scale  0.209009009009  base bid  [ 115.69422137]  cost  863.353\n",
      "new best clicks: num clicks  72  scale  0.228828828829  base bid  [ 115.69422137]  cost  1051.124\n",
      "new best clicks: num clicks  75  scale  0.238738738739  base bid  [ 115.69422137]  cost  1145.448\n",
      "new best clicks: num clicks  77  scale  0.248648648649  base bid  [ 115.69422137]  cost  1233.001\n",
      "new best clicks: num clicks  78  scale  0.258558558559  base bid  [ 115.69422137]  cost  1337.43\n",
      "new best clicks: num clicks  80  scale  0.268468468468  base bid  [ 115.69422137]  cost  1444.776\n",
      "new best clicks: num clicks  83  scale  0.288288288288  base bid  [ 115.69422137]  cost  1629.749\n",
      "new best clicks: num clicks  88  scale  0.298198198198  base bid  [ 115.69422137]  cost  1707.483\n",
      "new best clicks: num clicks  89  scale  0.308108108108  base bid  [ 115.69422137]  cost  1779.916\n",
      "new best clicks: num clicks  90  scale  0.318018018018  base bid  [ 115.69422137]  cost  1853.903\n",
      "new best clicks: num clicks  92  scale  0.347747747748  base bid  [ 115.69422137]  cost  2060.34\n",
      "new best clicks: num clicks  94  scale  0.357657657658  base bid  [ 115.69422137]  cost  2131.025\n",
      "new best clicks: num clicks  97  scale  0.367567567568  base bid  [ 115.69422137]  cost  2200.079\n",
      "new best clicks: num clicks  99  scale  0.377477477477  base bid  [ 115.69422137]  cost  2276.031\n",
      "new best clicks: num clicks  101  scale  0.417117117117  base bid  [ 115.69422137]  cost  2575.303\n",
      "new best clicks: num clicks  103  scale  0.427027027027  base bid  [ 115.69422137]  cost  2649.281\n",
      "new best clicks: num clicks  105  scale  0.456756756757  base bid  [ 115.69422137]  cost  2876.9\n",
      "new best clicks: num clicks  106  scale  0.466666666667  base bid  [ 115.69422137]  cost  2959.691\n",
      "new best clicks: num clicks  107  scale  0.486486486486  base bid  [ 115.69422137]  cost  3118.434\n",
      "new best clicks: num clicks  109  scale  0.516216216216  base bid  [ 115.69422137]  cost  3405.259\n",
      "new best clicks: num clicks  110  scale  0.526126126126  base bid  [ 115.69422137]  cost  3507.852\n",
      "new best clicks: num clicks  112  scale  0.536036036036  base bid  [ 115.69422137]  cost  3611.735\n",
      "new best clicks: num clicks  113  scale  0.545945945946  base bid  [ 115.69422137]  cost  3721.613\n",
      "new best clicks: num clicks  116  scale  0.615315315315  base bid  [ 115.69422137]  cost  4639.064\n",
      "new best clicks: num clicks  117  scale  0.625225225225  base bid  [ 115.69422137]  cost  4791.865\n",
      "new best clicks: num clicks  118  scale  0.664864864865  base bid  [ 115.69422137]  cost  5509.806\n",
      "new best clicks: num clicks  119  scale  0.674774774775  base bid  [ 115.69422137]  cost  5685.814\n",
      "new best clicks: num clicks  121  scale  0.684684684685  base bid  [ 115.69422137]  cost  5874.621\n",
      "new best clicks: num clicks  123  scale  0.694594594595  base bid  [ 115.69422137]  cost  6040.254\n",
      "new best clicks: num clicks  126  scale  0.704504504505  base bid  [ 115.69422137]  cost  6241.109\n"
     ]
    },
    {
     "ename": "KeyboardInterrupt",
     "evalue": "",
     "output_type": "error",
     "traceback": [
      "\u001b[0;31m---------------------------------------------------------------------------\u001b[0m",
      "\u001b[0;31mKeyboardInterrupt\u001b[0m                         Traceback (most recent call last)",
      "\u001b[0;32m<ipython-input-28-8a4030d532b5>\u001b[0m in \u001b[0;36m<module>\u001b[0;34m()\u001b[0m\n\u001b[1;32m      8\u001b[0m     \u001b[0mbase_bid\u001b[0m \u001b[0;34m=\u001b[0m \u001b[0mlr\u001b[0m\u001b[0;34m.\u001b[0m\u001b[0mcoef_\u001b[0m \u001b[0;34m*\u001b[0m \u001b[0mscale\u001b[0m\u001b[0;34m\u001b[0m\u001b[0m\n\u001b[1;32m      9\u001b[0m     \u001b[0mxgb_bids\u001b[0m \u001b[0;34m=\u001b[0m \u001b[0mbase_bid\u001b[0m \u001b[0;34m*\u001b[0m \u001b[0mrf_valid_pctr\u001b[0m\u001b[0;34m[\u001b[0m\u001b[0;34m:\u001b[0m\u001b[0;34m,\u001b[0m\u001b[0;36m1\u001b[0m\u001b[0;34m]\u001b[0m\u001b[0;34m/\u001b[0m\u001b[0mavgCTR\u001b[0m\u001b[0;34m\u001b[0m\u001b[0m\n\u001b[0;32m---> 10\u001b[0;31m     \u001b[0mclicks\u001b[0m\u001b[0;34m,\u001b[0m \u001b[0mcost\u001b[0m\u001b[0;34m,\u001b[0m \u001b[0mavg_CTR\u001b[0m \u001b[0;34m=\u001b[0m \u001b[0mevaluate_metrics\u001b[0m\u001b[0;34m(\u001b[0m\u001b[0mxgb_bids\u001b[0m\u001b[0;34m,\u001b[0m \u001b[0mdisplay\u001b[0m\u001b[0;34m=\u001b[0m\u001b[0;32mFalse\u001b[0m\u001b[0;34m)\u001b[0m\u001b[0;34m\u001b[0m\u001b[0m\n\u001b[0m\u001b[1;32m     11\u001b[0m \u001b[0;31m#     print('clicks', clicks, scale, base_bid)\u001b[0m\u001b[0;34m\u001b[0m\u001b[0;34m\u001b[0m\u001b[0m\n\u001b[1;32m     12\u001b[0m     \u001b[0;32mif\u001b[0m \u001b[0mbest_clicks\u001b[0m \u001b[0;32mis\u001b[0m \u001b[0;32mNone\u001b[0m \u001b[0;32mor\u001b[0m \u001b[0;34m(\u001b[0m\u001b[0mclicks\u001b[0m \u001b[0;34m>\u001b[0m \u001b[0mbest_clicks\u001b[0m \u001b[0;32mand\u001b[0m \u001b[0mcost\u001b[0m \u001b[0;34m<\u001b[0m \u001b[0mbudget\u001b[0m\u001b[0;34m)\u001b[0m\u001b[0;34m:\u001b[0m\u001b[0;34m\u001b[0m\u001b[0m\n",
      "\u001b[0;32m<ipython-input-14-e68963064ac0>\u001b[0m in \u001b[0;36mevaluate_metrics\u001b[0;34m(bidprices, display)\u001b[0m\n\u001b[1;32m     16\u001b[0m \u001b[0;32mdef\u001b[0m \u001b[0mevaluate_metrics\u001b[0m\u001b[0;34m(\u001b[0m\u001b[0mbidprices\u001b[0m\u001b[0;34m,\u001b[0m \u001b[0mdisplay\u001b[0m\u001b[0;34m=\u001b[0m\u001b[0;32mTrue\u001b[0m\u001b[0;34m)\u001b[0m\u001b[0;34m:\u001b[0m\u001b[0;34m\u001b[0m\u001b[0m\n\u001b[1;32m     17\u001b[0m     \u001b[0mwin_items\u001b[0m \u001b[0;34m=\u001b[0m \u001b[0mvalidation\u001b[0m\u001b[0;34m[\u001b[0m\u001b[0;34m'payprice'\u001b[0m\u001b[0;34m]\u001b[0m \u001b[0;34m<\u001b[0m \u001b[0mbidprices\u001b[0m\u001b[0;34m\u001b[0m\u001b[0m\n\u001b[0;32m---> 18\u001b[0;31m     \u001b[0mimp\u001b[0m \u001b[0;34m=\u001b[0m \u001b[0mvalidation\u001b[0m\u001b[0;34m[\u001b[0m\u001b[0mwin_items\u001b[0m\u001b[0;34m]\u001b[0m\u001b[0;34m\u001b[0m\u001b[0m\n\u001b[0m\u001b[1;32m     19\u001b[0m     \u001b[0mclicks\u001b[0m \u001b[0;34m=\u001b[0m \u001b[0mimp\u001b[0m\u001b[0;34m[\u001b[0m\u001b[0;34m'click'\u001b[0m\u001b[0;34m]\u001b[0m\u001b[0;34m.\u001b[0m\u001b[0msum\u001b[0m\u001b[0;34m(\u001b[0m\u001b[0;34m)\u001b[0m\u001b[0;34m\u001b[0m\u001b[0m\n\u001b[1;32m     20\u001b[0m \u001b[0;34m\u001b[0m\u001b[0m\n",
      "\u001b[0;32m/usr/local/lib/python3.6/site-packages/pandas/core/frame.py\u001b[0m in \u001b[0;36m__getitem__\u001b[0;34m(self, key)\u001b[0m\n\u001b[1;32m   1956\u001b[0m         \u001b[0;32mif\u001b[0m \u001b[0misinstance\u001b[0m\u001b[0;34m(\u001b[0m\u001b[0mkey\u001b[0m\u001b[0;34m,\u001b[0m \u001b[0;34m(\u001b[0m\u001b[0mSeries\u001b[0m\u001b[0;34m,\u001b[0m \u001b[0mnp\u001b[0m\u001b[0;34m.\u001b[0m\u001b[0mndarray\u001b[0m\u001b[0;34m,\u001b[0m \u001b[0mIndex\u001b[0m\u001b[0;34m,\u001b[0m \u001b[0mlist\u001b[0m\u001b[0;34m)\u001b[0m\u001b[0;34m)\u001b[0m\u001b[0;34m:\u001b[0m\u001b[0;34m\u001b[0m\u001b[0m\n\u001b[1;32m   1957\u001b[0m             \u001b[0;31m# either boolean or fancy integer index\u001b[0m\u001b[0;34m\u001b[0m\u001b[0;34m\u001b[0m\u001b[0m\n\u001b[0;32m-> 1958\u001b[0;31m             \u001b[0;32mreturn\u001b[0m \u001b[0mself\u001b[0m\u001b[0;34m.\u001b[0m\u001b[0m_getitem_array\u001b[0m\u001b[0;34m(\u001b[0m\u001b[0mkey\u001b[0m\u001b[0;34m)\u001b[0m\u001b[0;34m\u001b[0m\u001b[0m\n\u001b[0m\u001b[1;32m   1959\u001b[0m         \u001b[0;32melif\u001b[0m \u001b[0misinstance\u001b[0m\u001b[0;34m(\u001b[0m\u001b[0mkey\u001b[0m\u001b[0;34m,\u001b[0m \u001b[0mDataFrame\u001b[0m\u001b[0;34m)\u001b[0m\u001b[0;34m:\u001b[0m\u001b[0;34m\u001b[0m\u001b[0m\n\u001b[1;32m   1960\u001b[0m             \u001b[0;32mreturn\u001b[0m \u001b[0mself\u001b[0m\u001b[0;34m.\u001b[0m\u001b[0m_getitem_frame\u001b[0m\u001b[0;34m(\u001b[0m\u001b[0mkey\u001b[0m\u001b[0;34m)\u001b[0m\u001b[0;34m\u001b[0m\u001b[0m\n",
      "\u001b[0;32m/usr/local/lib/python3.6/site-packages/pandas/core/frame.py\u001b[0m in \u001b[0;36m_getitem_array\u001b[0;34m(self, key)\u001b[0m\n\u001b[1;32m   1998\u001b[0m             \u001b[0mkey\u001b[0m \u001b[0;34m=\u001b[0m \u001b[0mcheck_bool_indexer\u001b[0m\u001b[0;34m(\u001b[0m\u001b[0mself\u001b[0m\u001b[0;34m.\u001b[0m\u001b[0mindex\u001b[0m\u001b[0;34m,\u001b[0m \u001b[0mkey\u001b[0m\u001b[0;34m)\u001b[0m\u001b[0;34m\u001b[0m\u001b[0m\n\u001b[1;32m   1999\u001b[0m             \u001b[0mindexer\u001b[0m \u001b[0;34m=\u001b[0m \u001b[0mkey\u001b[0m\u001b[0;34m.\u001b[0m\u001b[0mnonzero\u001b[0m\u001b[0;34m(\u001b[0m\u001b[0;34m)\u001b[0m\u001b[0;34m[\u001b[0m\u001b[0;36m0\u001b[0m\u001b[0;34m]\u001b[0m\u001b[0;34m\u001b[0m\u001b[0m\n\u001b[0;32m-> 2000\u001b[0;31m             \u001b[0;32mreturn\u001b[0m \u001b[0mself\u001b[0m\u001b[0;34m.\u001b[0m\u001b[0mtake\u001b[0m\u001b[0;34m(\u001b[0m\u001b[0mindexer\u001b[0m\u001b[0;34m,\u001b[0m \u001b[0maxis\u001b[0m\u001b[0;34m=\u001b[0m\u001b[0;36m0\u001b[0m\u001b[0;34m,\u001b[0m \u001b[0mconvert\u001b[0m\u001b[0;34m=\u001b[0m\u001b[0;32mFalse\u001b[0m\u001b[0;34m)\u001b[0m\u001b[0;34m\u001b[0m\u001b[0m\n\u001b[0m\u001b[1;32m   2001\u001b[0m         \u001b[0;32melse\u001b[0m\u001b[0;34m:\u001b[0m\u001b[0;34m\u001b[0m\u001b[0m\n\u001b[1;32m   2002\u001b[0m             \u001b[0mindexer\u001b[0m \u001b[0;34m=\u001b[0m \u001b[0mself\u001b[0m\u001b[0;34m.\u001b[0m\u001b[0mloc\u001b[0m\u001b[0;34m.\u001b[0m\u001b[0m_convert_to_indexer\u001b[0m\u001b[0;34m(\u001b[0m\u001b[0mkey\u001b[0m\u001b[0;34m,\u001b[0m \u001b[0maxis\u001b[0m\u001b[0;34m=\u001b[0m\u001b[0;36m1\u001b[0m\u001b[0;34m)\u001b[0m\u001b[0;34m\u001b[0m\u001b[0m\n",
      "\u001b[0;32m/usr/local/lib/python3.6/site-packages/pandas/core/generic.py\u001b[0m in \u001b[0;36mtake\u001b[0;34m(self, indices, axis, convert, is_copy, **kwargs)\u001b[0m\n\u001b[1;32m   1926\u001b[0m         new_data = self._data.take(indices,\n\u001b[1;32m   1927\u001b[0m                                    \u001b[0maxis\u001b[0m\u001b[0;34m=\u001b[0m\u001b[0mself\u001b[0m\u001b[0;34m.\u001b[0m\u001b[0m_get_block_manager_axis\u001b[0m\u001b[0;34m(\u001b[0m\u001b[0maxis\u001b[0m\u001b[0;34m)\u001b[0m\u001b[0;34m,\u001b[0m\u001b[0;34m\u001b[0m\u001b[0m\n\u001b[0;32m-> 1928\u001b[0;31m                                    convert=True, verify=True)\n\u001b[0m\u001b[1;32m   1929\u001b[0m         \u001b[0mresult\u001b[0m \u001b[0;34m=\u001b[0m \u001b[0mself\u001b[0m\u001b[0;34m.\u001b[0m\u001b[0m_constructor\u001b[0m\u001b[0;34m(\u001b[0m\u001b[0mnew_data\u001b[0m\u001b[0;34m)\u001b[0m\u001b[0;34m.\u001b[0m\u001b[0m__finalize__\u001b[0m\u001b[0;34m(\u001b[0m\u001b[0mself\u001b[0m\u001b[0;34m)\u001b[0m\u001b[0;34m\u001b[0m\u001b[0m\n\u001b[1;32m   1930\u001b[0m \u001b[0;34m\u001b[0m\u001b[0m\n",
      "\u001b[0;32m/usr/local/lib/python3.6/site-packages/pandas/core/internals.py\u001b[0m in \u001b[0;36mtake\u001b[0;34m(self, indexer, axis, verify, convert)\u001b[0m\n\u001b[1;32m   4009\u001b[0m         \u001b[0mnew_labels\u001b[0m \u001b[0;34m=\u001b[0m \u001b[0mself\u001b[0m\u001b[0;34m.\u001b[0m\u001b[0maxes\u001b[0m\u001b[0;34m[\u001b[0m\u001b[0maxis\u001b[0m\u001b[0;34m]\u001b[0m\u001b[0;34m.\u001b[0m\u001b[0mtake\u001b[0m\u001b[0;34m(\u001b[0m\u001b[0mindexer\u001b[0m\u001b[0;34m)\u001b[0m\u001b[0;34m\u001b[0m\u001b[0m\n\u001b[1;32m   4010\u001b[0m         return self.reindex_indexer(new_axis=new_labels, indexer=indexer,\n\u001b[0;32m-> 4011\u001b[0;31m                                     axis=axis, allow_dups=True)\n\u001b[0m\u001b[1;32m   4012\u001b[0m \u001b[0;34m\u001b[0m\u001b[0m\n\u001b[1;32m   4013\u001b[0m     \u001b[0;32mdef\u001b[0m \u001b[0mmerge\u001b[0m\u001b[0;34m(\u001b[0m\u001b[0mself\u001b[0m\u001b[0;34m,\u001b[0m \u001b[0mother\u001b[0m\u001b[0;34m,\u001b[0m \u001b[0mlsuffix\u001b[0m\u001b[0;34m=\u001b[0m\u001b[0;34m''\u001b[0m\u001b[0;34m,\u001b[0m \u001b[0mrsuffix\u001b[0m\u001b[0;34m=\u001b[0m\u001b[0;34m''\u001b[0m\u001b[0;34m)\u001b[0m\u001b[0;34m:\u001b[0m\u001b[0;34m\u001b[0m\u001b[0m\n",
      "\u001b[0;32m/usr/local/lib/python3.6/site-packages/pandas/core/internals.py\u001b[0m in \u001b[0;36mreindex_indexer\u001b[0;34m(self, new_axis, indexer, axis, fill_value, allow_dups, copy)\u001b[0m\n\u001b[1;32m   3895\u001b[0m             new_blocks = [blk.take_nd(indexer, axis=axis, fill_tuple=(\n\u001b[1;32m   3896\u001b[0m                 fill_value if fill_value is not None else blk.fill_value,))\n\u001b[0;32m-> 3897\u001b[0;31m                 for blk in self.blocks]\n\u001b[0m\u001b[1;32m   3898\u001b[0m \u001b[0;34m\u001b[0m\u001b[0m\n\u001b[1;32m   3899\u001b[0m         \u001b[0mnew_axes\u001b[0m \u001b[0;34m=\u001b[0m \u001b[0mlist\u001b[0m\u001b[0;34m(\u001b[0m\u001b[0mself\u001b[0m\u001b[0;34m.\u001b[0m\u001b[0maxes\u001b[0m\u001b[0;34m)\u001b[0m\u001b[0;34m\u001b[0m\u001b[0m\n",
      "\u001b[0;32m/usr/local/lib/python3.6/site-packages/pandas/core/internals.py\u001b[0m in \u001b[0;36m<listcomp>\u001b[0;34m(.0)\u001b[0m\n\u001b[1;32m   3895\u001b[0m             new_blocks = [blk.take_nd(indexer, axis=axis, fill_tuple=(\n\u001b[1;32m   3896\u001b[0m                 fill_value if fill_value is not None else blk.fill_value,))\n\u001b[0;32m-> 3897\u001b[0;31m                 for blk in self.blocks]\n\u001b[0m\u001b[1;32m   3898\u001b[0m \u001b[0;34m\u001b[0m\u001b[0m\n\u001b[1;32m   3899\u001b[0m         \u001b[0mnew_axes\u001b[0m \u001b[0;34m=\u001b[0m \u001b[0mlist\u001b[0m\u001b[0;34m(\u001b[0m\u001b[0mself\u001b[0m\u001b[0;34m.\u001b[0m\u001b[0maxes\u001b[0m\u001b[0;34m)\u001b[0m\u001b[0;34m\u001b[0m\u001b[0m\n",
      "\u001b[0;32m/usr/local/lib/python3.6/site-packages/pandas/core/internals.py\u001b[0m in \u001b[0;36mtake_nd\u001b[0;34m(self, indexer, axis, new_mgr_locs, fill_tuple)\u001b[0m\n\u001b[1;32m   1044\u001b[0m             \u001b[0mfill_value\u001b[0m \u001b[0;34m=\u001b[0m \u001b[0mfill_tuple\u001b[0m\u001b[0;34m[\u001b[0m\u001b[0;36m0\u001b[0m\u001b[0;34m]\u001b[0m\u001b[0;34m\u001b[0m\u001b[0m\n\u001b[1;32m   1045\u001b[0m             new_values = algos.take_nd(values, indexer, axis=axis,\n\u001b[0;32m-> 1046\u001b[0;31m                                        allow_fill=True, fill_value=fill_value)\n\u001b[0m\u001b[1;32m   1047\u001b[0m \u001b[0;34m\u001b[0m\u001b[0m\n\u001b[1;32m   1048\u001b[0m         \u001b[0;32mif\u001b[0m \u001b[0mnew_mgr_locs\u001b[0m \u001b[0;32mis\u001b[0m \u001b[0;32mNone\u001b[0m\u001b[0;34m:\u001b[0m\u001b[0;34m\u001b[0m\u001b[0m\n",
      "\u001b[0;32m/usr/local/lib/python3.6/site-packages/pandas/core/algorithms.py\u001b[0m in \u001b[0;36mtake_nd\u001b[0;34m(arr, indexer, axis, out, fill_value, mask_info, allow_fill)\u001b[0m\n\u001b[1;32m   1469\u001b[0m     func = _get_take_nd_function(arr.ndim, arr.dtype, out.dtype, axis=axis,\n\u001b[1;32m   1470\u001b[0m                                  mask_info=mask_info)\n\u001b[0;32m-> 1471\u001b[0;31m     \u001b[0mfunc\u001b[0m\u001b[0;34m(\u001b[0m\u001b[0marr\u001b[0m\u001b[0;34m,\u001b[0m \u001b[0mindexer\u001b[0m\u001b[0;34m,\u001b[0m \u001b[0mout\u001b[0m\u001b[0;34m,\u001b[0m \u001b[0mfill_value\u001b[0m\u001b[0;34m)\u001b[0m\u001b[0;34m\u001b[0m\u001b[0m\n\u001b[0m\u001b[1;32m   1472\u001b[0m \u001b[0;34m\u001b[0m\u001b[0m\n\u001b[1;32m   1473\u001b[0m     \u001b[0;32mif\u001b[0m \u001b[0mflip_order\u001b[0m\u001b[0;34m:\u001b[0m\u001b[0;34m\u001b[0m\u001b[0m\n",
      "\u001b[0;31mKeyboardInterrupt\u001b[0m: "
     ]
    }
   ],
   "source": [
    "# rf_pctr\n",
    "# %%time\n",
    "budget = 6250\n",
    "best_scale = None\n",
    "best_clicks = None\n",
    "\n",
    "for scale in np.linspace(0.1,10.,1000):\n",
    "    base_bid = lr.coef_ * scale\n",
    "    xgb_bids = base_bid * rf_valid_pctr[:,1]/avgCTR\n",
    "    clicks, cost, avg_CTR = evaluate_metrics(xgb_bids, display=False)\n",
    "#     print('clicks', clicks, scale, base_bid)\n",
    "    if best_clicks is None or (clicks > best_clicks and cost < budget):\n",
    "        best_clicks = clicks\n",
    "        best_scale = scale\n",
    "        print('new best clicks: num clicks ', best_clicks, ' scale ', best_scale, ' base bid ', lr.coef_, ' cost ', cost)\n"
   ]
  },
  {
   "cell_type": "code",
   "execution_count": 29,
   "metadata": {},
   "outputs": [
    {
     "name": "stdout",
     "output_type": "stream",
     "text": [
      "\\begin{tabular}{lrr}\n",
      "\\toprule\n",
      "{} &    AUC &   RMSE \\\\\n",
      "Advertiser &        &        \\\\\n",
      "\\midrule\n",
      "1458       &  0.866 &  0.028 \\\\\n",
      "3476       &  0.717 &  0.017 \\\\\n",
      "3358       &  0.806 &  0.026 \\\\\n",
      "3427       &  0.824 &  0.027 \\\\\n",
      "3386       &  0.706 &  0.022 \\\\\n",
      "2261       &  0.869 &  0.015 \\\\\n",
      "2821       &  0.571 &  0.029 \\\\\n",
      "2259       &  0.258 &  0.011 \\\\\n",
      "2997       &  0.568 &  0.065 \\\\\n",
      "All        &  0.796 &  0.026 \\\\\n",
      "Train      &  0.925 &  0.028 \\\\\n",
      "\\bottomrule\n",
      "\\end{tabular}\n",
      "\n"
     ]
    }
   ],
   "source": [
    "print(results.round(3).to_latex())"
   ]
  }
 ],
 "metadata": {
  "kernelspec": {
   "display_name": "Python 3",
   "language": "python",
   "name": "python3"
  },
  "language_info": {
   "codemirror_mode": {
    "name": "ipython",
    "version": 3
   },
   "file_extension": ".py",
   "mimetype": "text/x-python",
   "name": "python",
   "nbconvert_exporter": "python",
   "pygments_lexer": "ipython3",
   "version": "3.6.1"
  }
 },
 "nbformat": 4,
 "nbformat_minor": 2
}
